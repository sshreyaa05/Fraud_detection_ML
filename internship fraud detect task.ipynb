{
 "cells": [
  {
   "cell_type": "markdown",
   "id": "85c9d06d",
   "metadata": {},
   "source": [
    "## FRAUD DETECTION LEVERAGING MACHINE LEARNING ALGORITHMS :"
   ]
  },
  {
   "cell_type": "code",
   "execution_count": 1,
   "id": "99dacf87",
   "metadata": {},
   "outputs": [],
   "source": [
    "## IMPORTING THE LIBRARIES"
   ]
  },
  {
   "cell_type": "code",
   "execution_count": 2,
   "id": "d143379f",
   "metadata": {},
   "outputs": [],
   "source": [
    "import numpy as np\n",
    "import pandas as pd\n",
    "import matplotlib.pyplot as plt\n",
    "import seaborn as sns\n",
    "import warnings\n",
    "warnings.filterwarnings('ignore')\n",
    "from sklearn.utils import resample\n",
    "from sklearn.preprocessing import StandardScaler\n",
    "from sklearn.preprocessing import LabelEncoder\n",
    "from sklearn.model_selection import train_test_split\n",
    "from sklearn.linear_model import LogisticRegression\n",
    "from sklearn.model_selection import GridSearchCV\n",
    "from statsmodels.stats.outliers_influence import variance_inflation_factor\n",
    "from sklearn.metrics import classification_report, confusion_matrix\n",
    "from sklearn.ensemble import RandomForestClassifier\n",
    "\n"
   ]
  },
  {
   "cell_type": "code",
   "execution_count": 3,
   "id": "4dafd3c4",
   "metadata": {},
   "outputs": [],
   "source": [
    "## GETTING THE DATA"
   ]
  },
  {
   "cell_type": "code",
   "execution_count": 4,
   "id": "84bb1647",
   "metadata": {},
   "outputs": [
    {
     "data": {
      "text/html": [
       "<div>\n",
       "<style scoped>\n",
       "    .dataframe tbody tr th:only-of-type {\n",
       "        vertical-align: middle;\n",
       "    }\n",
       "\n",
       "    .dataframe tbody tr th {\n",
       "        vertical-align: top;\n",
       "    }\n",
       "\n",
       "    .dataframe thead th {\n",
       "        text-align: right;\n",
       "    }\n",
       "</style>\n",
       "<table border=\"1\" class=\"dataframe\">\n",
       "  <thead>\n",
       "    <tr style=\"text-align: right;\">\n",
       "      <th></th>\n",
       "      <th>step</th>\n",
       "      <th>type</th>\n",
       "      <th>amount</th>\n",
       "      <th>nameOrig</th>\n",
       "      <th>oldbalanceOrg</th>\n",
       "      <th>newbalanceOrig</th>\n",
       "      <th>nameDest</th>\n",
       "      <th>oldbalanceDest</th>\n",
       "      <th>newbalanceDest</th>\n",
       "      <th>isFraud</th>\n",
       "      <th>isFlaggedFraud</th>\n",
       "    </tr>\n",
       "  </thead>\n",
       "  <tbody>\n",
       "    <tr>\n",
       "      <th>0</th>\n",
       "      <td>1</td>\n",
       "      <td>PAYMENT</td>\n",
       "      <td>9839.64</td>\n",
       "      <td>C1231006815</td>\n",
       "      <td>170136.00</td>\n",
       "      <td>160296.36</td>\n",
       "      <td>M1979787155</td>\n",
       "      <td>0.0</td>\n",
       "      <td>0.00</td>\n",
       "      <td>0</td>\n",
       "      <td>0</td>\n",
       "    </tr>\n",
       "    <tr>\n",
       "      <th>1</th>\n",
       "      <td>1</td>\n",
       "      <td>PAYMENT</td>\n",
       "      <td>1864.28</td>\n",
       "      <td>C1666544295</td>\n",
       "      <td>21249.00</td>\n",
       "      <td>19384.72</td>\n",
       "      <td>M2044282225</td>\n",
       "      <td>0.0</td>\n",
       "      <td>0.00</td>\n",
       "      <td>0</td>\n",
       "      <td>0</td>\n",
       "    </tr>\n",
       "    <tr>\n",
       "      <th>2</th>\n",
       "      <td>1</td>\n",
       "      <td>TRANSFER</td>\n",
       "      <td>181.00</td>\n",
       "      <td>C1305486145</td>\n",
       "      <td>181.00</td>\n",
       "      <td>0.00</td>\n",
       "      <td>C553264065</td>\n",
       "      <td>0.0</td>\n",
       "      <td>0.00</td>\n",
       "      <td>1</td>\n",
       "      <td>0</td>\n",
       "    </tr>\n",
       "    <tr>\n",
       "      <th>3</th>\n",
       "      <td>1</td>\n",
       "      <td>CASH_OUT</td>\n",
       "      <td>181.00</td>\n",
       "      <td>C840083671</td>\n",
       "      <td>181.00</td>\n",
       "      <td>0.00</td>\n",
       "      <td>C38997010</td>\n",
       "      <td>21182.0</td>\n",
       "      <td>0.00</td>\n",
       "      <td>1</td>\n",
       "      <td>0</td>\n",
       "    </tr>\n",
       "    <tr>\n",
       "      <th>4</th>\n",
       "      <td>1</td>\n",
       "      <td>PAYMENT</td>\n",
       "      <td>11668.14</td>\n",
       "      <td>C2048537720</td>\n",
       "      <td>41554.00</td>\n",
       "      <td>29885.86</td>\n",
       "      <td>M1230701703</td>\n",
       "      <td>0.0</td>\n",
       "      <td>0.00</td>\n",
       "      <td>0</td>\n",
       "      <td>0</td>\n",
       "    </tr>\n",
       "    <tr>\n",
       "      <th>5</th>\n",
       "      <td>1</td>\n",
       "      <td>PAYMENT</td>\n",
       "      <td>7817.71</td>\n",
       "      <td>C90045638</td>\n",
       "      <td>53860.00</td>\n",
       "      <td>46042.29</td>\n",
       "      <td>M573487274</td>\n",
       "      <td>0.0</td>\n",
       "      <td>0.00</td>\n",
       "      <td>0</td>\n",
       "      <td>0</td>\n",
       "    </tr>\n",
       "    <tr>\n",
       "      <th>6</th>\n",
       "      <td>1</td>\n",
       "      <td>PAYMENT</td>\n",
       "      <td>7107.77</td>\n",
       "      <td>C154988899</td>\n",
       "      <td>183195.00</td>\n",
       "      <td>176087.23</td>\n",
       "      <td>M408069119</td>\n",
       "      <td>0.0</td>\n",
       "      <td>0.00</td>\n",
       "      <td>0</td>\n",
       "      <td>0</td>\n",
       "    </tr>\n",
       "    <tr>\n",
       "      <th>7</th>\n",
       "      <td>1</td>\n",
       "      <td>PAYMENT</td>\n",
       "      <td>7861.64</td>\n",
       "      <td>C1912850431</td>\n",
       "      <td>176087.23</td>\n",
       "      <td>168225.59</td>\n",
       "      <td>M633326333</td>\n",
       "      <td>0.0</td>\n",
       "      <td>0.00</td>\n",
       "      <td>0</td>\n",
       "      <td>0</td>\n",
       "    </tr>\n",
       "    <tr>\n",
       "      <th>8</th>\n",
       "      <td>1</td>\n",
       "      <td>PAYMENT</td>\n",
       "      <td>4024.36</td>\n",
       "      <td>C1265012928</td>\n",
       "      <td>2671.00</td>\n",
       "      <td>0.00</td>\n",
       "      <td>M1176932104</td>\n",
       "      <td>0.0</td>\n",
       "      <td>0.00</td>\n",
       "      <td>0</td>\n",
       "      <td>0</td>\n",
       "    </tr>\n",
       "    <tr>\n",
       "      <th>9</th>\n",
       "      <td>1</td>\n",
       "      <td>DEBIT</td>\n",
       "      <td>5337.77</td>\n",
       "      <td>C712410124</td>\n",
       "      <td>41720.00</td>\n",
       "      <td>36382.23</td>\n",
       "      <td>C195600860</td>\n",
       "      <td>41898.0</td>\n",
       "      <td>40348.79</td>\n",
       "      <td>0</td>\n",
       "      <td>0</td>\n",
       "    </tr>\n",
       "    <tr>\n",
       "      <th>10</th>\n",
       "      <td>1</td>\n",
       "      <td>DEBIT</td>\n",
       "      <td>9644.94</td>\n",
       "      <td>C1900366749</td>\n",
       "      <td>4465.00</td>\n",
       "      <td>0.00</td>\n",
       "      <td>C997608398</td>\n",
       "      <td>10845.0</td>\n",
       "      <td>157982.12</td>\n",
       "      <td>0</td>\n",
       "      <td>0</td>\n",
       "    </tr>\n",
       "    <tr>\n",
       "      <th>11</th>\n",
       "      <td>1</td>\n",
       "      <td>PAYMENT</td>\n",
       "      <td>3099.97</td>\n",
       "      <td>C249177573</td>\n",
       "      <td>20771.00</td>\n",
       "      <td>17671.03</td>\n",
       "      <td>M2096539129</td>\n",
       "      <td>0.0</td>\n",
       "      <td>0.00</td>\n",
       "      <td>0</td>\n",
       "      <td>0</td>\n",
       "    </tr>\n",
       "    <tr>\n",
       "      <th>12</th>\n",
       "      <td>1</td>\n",
       "      <td>PAYMENT</td>\n",
       "      <td>2560.74</td>\n",
       "      <td>C1648232591</td>\n",
       "      <td>5070.00</td>\n",
       "      <td>2509.26</td>\n",
       "      <td>M972865270</td>\n",
       "      <td>0.0</td>\n",
       "      <td>0.00</td>\n",
       "      <td>0</td>\n",
       "      <td>0</td>\n",
       "    </tr>\n",
       "    <tr>\n",
       "      <th>13</th>\n",
       "      <td>1</td>\n",
       "      <td>PAYMENT</td>\n",
       "      <td>11633.76</td>\n",
       "      <td>C1716932897</td>\n",
       "      <td>10127.00</td>\n",
       "      <td>0.00</td>\n",
       "      <td>M801569151</td>\n",
       "      <td>0.0</td>\n",
       "      <td>0.00</td>\n",
       "      <td>0</td>\n",
       "      <td>0</td>\n",
       "    </tr>\n",
       "    <tr>\n",
       "      <th>14</th>\n",
       "      <td>1</td>\n",
       "      <td>PAYMENT</td>\n",
       "      <td>4098.78</td>\n",
       "      <td>C1026483832</td>\n",
       "      <td>503264.00</td>\n",
       "      <td>499165.22</td>\n",
       "      <td>M1635378213</td>\n",
       "      <td>0.0</td>\n",
       "      <td>0.00</td>\n",
       "      <td>0</td>\n",
       "      <td>0</td>\n",
       "    </tr>\n",
       "    <tr>\n",
       "      <th>15</th>\n",
       "      <td>1</td>\n",
       "      <td>CASH_OUT</td>\n",
       "      <td>229133.94</td>\n",
       "      <td>C905080434</td>\n",
       "      <td>15325.00</td>\n",
       "      <td>0.00</td>\n",
       "      <td>C476402209</td>\n",
       "      <td>5083.0</td>\n",
       "      <td>51513.44</td>\n",
       "      <td>0</td>\n",
       "      <td>0</td>\n",
       "    </tr>\n",
       "    <tr>\n",
       "      <th>16</th>\n",
       "      <td>1</td>\n",
       "      <td>PAYMENT</td>\n",
       "      <td>1563.82</td>\n",
       "      <td>C761750706</td>\n",
       "      <td>450.00</td>\n",
       "      <td>0.00</td>\n",
       "      <td>M1731217984</td>\n",
       "      <td>0.0</td>\n",
       "      <td>0.00</td>\n",
       "      <td>0</td>\n",
       "      <td>0</td>\n",
       "    </tr>\n",
       "    <tr>\n",
       "      <th>17</th>\n",
       "      <td>1</td>\n",
       "      <td>PAYMENT</td>\n",
       "      <td>1157.86</td>\n",
       "      <td>C1237762639</td>\n",
       "      <td>21156.00</td>\n",
       "      <td>19998.14</td>\n",
       "      <td>M1877062907</td>\n",
       "      <td>0.0</td>\n",
       "      <td>0.00</td>\n",
       "      <td>0</td>\n",
       "      <td>0</td>\n",
       "    </tr>\n",
       "    <tr>\n",
       "      <th>18</th>\n",
       "      <td>1</td>\n",
       "      <td>PAYMENT</td>\n",
       "      <td>671.64</td>\n",
       "      <td>C2033524545</td>\n",
       "      <td>15123.00</td>\n",
       "      <td>14451.36</td>\n",
       "      <td>M473053293</td>\n",
       "      <td>0.0</td>\n",
       "      <td>0.00</td>\n",
       "      <td>0</td>\n",
       "      <td>0</td>\n",
       "    </tr>\n",
       "    <tr>\n",
       "      <th>19</th>\n",
       "      <td>1</td>\n",
       "      <td>TRANSFER</td>\n",
       "      <td>215310.30</td>\n",
       "      <td>C1670993182</td>\n",
       "      <td>705.00</td>\n",
       "      <td>0.00</td>\n",
       "      <td>C1100439041</td>\n",
       "      <td>22425.0</td>\n",
       "      <td>0.00</td>\n",
       "      <td>0</td>\n",
       "      <td>0</td>\n",
       "    </tr>\n",
       "  </tbody>\n",
       "</table>\n",
       "</div>"
      ],
      "text/plain": [
       "    step      type     amount     nameOrig  oldbalanceOrg  newbalanceOrig  \\\n",
       "0      1   PAYMENT    9839.64  C1231006815      170136.00       160296.36   \n",
       "1      1   PAYMENT    1864.28  C1666544295       21249.00        19384.72   \n",
       "2      1  TRANSFER     181.00  C1305486145         181.00            0.00   \n",
       "3      1  CASH_OUT     181.00   C840083671         181.00            0.00   \n",
       "4      1   PAYMENT   11668.14  C2048537720       41554.00        29885.86   \n",
       "5      1   PAYMENT    7817.71    C90045638       53860.00        46042.29   \n",
       "6      1   PAYMENT    7107.77   C154988899      183195.00       176087.23   \n",
       "7      1   PAYMENT    7861.64  C1912850431      176087.23       168225.59   \n",
       "8      1   PAYMENT    4024.36  C1265012928        2671.00            0.00   \n",
       "9      1     DEBIT    5337.77   C712410124       41720.00        36382.23   \n",
       "10     1     DEBIT    9644.94  C1900366749        4465.00            0.00   \n",
       "11     1   PAYMENT    3099.97   C249177573       20771.00        17671.03   \n",
       "12     1   PAYMENT    2560.74  C1648232591        5070.00         2509.26   \n",
       "13     1   PAYMENT   11633.76  C1716932897       10127.00            0.00   \n",
       "14     1   PAYMENT    4098.78  C1026483832      503264.00       499165.22   \n",
       "15     1  CASH_OUT  229133.94   C905080434       15325.00            0.00   \n",
       "16     1   PAYMENT    1563.82   C761750706         450.00            0.00   \n",
       "17     1   PAYMENT    1157.86  C1237762639       21156.00        19998.14   \n",
       "18     1   PAYMENT     671.64  C2033524545       15123.00        14451.36   \n",
       "19     1  TRANSFER  215310.30  C1670993182         705.00            0.00   \n",
       "\n",
       "       nameDest  oldbalanceDest  newbalanceDest  isFraud  isFlaggedFraud  \n",
       "0   M1979787155             0.0            0.00        0               0  \n",
       "1   M2044282225             0.0            0.00        0               0  \n",
       "2    C553264065             0.0            0.00        1               0  \n",
       "3     C38997010         21182.0            0.00        1               0  \n",
       "4   M1230701703             0.0            0.00        0               0  \n",
       "5    M573487274             0.0            0.00        0               0  \n",
       "6    M408069119             0.0            0.00        0               0  \n",
       "7    M633326333             0.0            0.00        0               0  \n",
       "8   M1176932104             0.0            0.00        0               0  \n",
       "9    C195600860         41898.0        40348.79        0               0  \n",
       "10   C997608398         10845.0       157982.12        0               0  \n",
       "11  M2096539129             0.0            0.00        0               0  \n",
       "12   M972865270             0.0            0.00        0               0  \n",
       "13   M801569151             0.0            0.00        0               0  \n",
       "14  M1635378213             0.0            0.00        0               0  \n",
       "15   C476402209          5083.0        51513.44        0               0  \n",
       "16  M1731217984             0.0            0.00        0               0  \n",
       "17  M1877062907             0.0            0.00        0               0  \n",
       "18   M473053293             0.0            0.00        0               0  \n",
       "19  C1100439041         22425.0            0.00        0               0  "
      ]
     },
     "execution_count": 4,
     "metadata": {},
     "output_type": "execute_result"
    }
   ],
   "source": [
    "df = pd.read_csv(\"Fraud.csv\")\n",
    "df.head(20)"
   ]
  },
  {
   "cell_type": "code",
   "execution_count": 5,
   "id": "ea0e19b2",
   "metadata": {},
   "outputs": [],
   "source": [
    "## EDA ON THE DATA"
   ]
  },
  {
   "cell_type": "code",
   "execution_count": 6,
   "id": "59fd4870",
   "metadata": {},
   "outputs": [
    {
     "data": {
      "text/html": [
       "<div>\n",
       "<style scoped>\n",
       "    .dataframe tbody tr th:only-of-type {\n",
       "        vertical-align: middle;\n",
       "    }\n",
       "\n",
       "    .dataframe tbody tr th {\n",
       "        vertical-align: top;\n",
       "    }\n",
       "\n",
       "    .dataframe thead th {\n",
       "        text-align: right;\n",
       "    }\n",
       "</style>\n",
       "<table border=\"1\" class=\"dataframe\">\n",
       "  <thead>\n",
       "    <tr style=\"text-align: right;\">\n",
       "      <th></th>\n",
       "      <th>step</th>\n",
       "      <th>type</th>\n",
       "      <th>amount</th>\n",
       "      <th>nameOrig</th>\n",
       "      <th>oldbalanceOrg</th>\n",
       "      <th>newbalanceOrig</th>\n",
       "      <th>nameDest</th>\n",
       "      <th>oldbalanceDest</th>\n",
       "      <th>newbalanceDest</th>\n",
       "      <th>isFraud</th>\n",
       "      <th>isFlaggedFraud</th>\n",
       "    </tr>\n",
       "  </thead>\n",
       "  <tbody>\n",
       "    <tr>\n",
       "      <th>0</th>\n",
       "      <td>1</td>\n",
       "      <td>PAYMENT</td>\n",
       "      <td>9839.64</td>\n",
       "      <td>C1231006815</td>\n",
       "      <td>170136.0</td>\n",
       "      <td>160296.36</td>\n",
       "      <td>M1979787155</td>\n",
       "      <td>0.0</td>\n",
       "      <td>0.0</td>\n",
       "      <td>0</td>\n",
       "      <td>0</td>\n",
       "    </tr>\n",
       "    <tr>\n",
       "      <th>1</th>\n",
       "      <td>1</td>\n",
       "      <td>PAYMENT</td>\n",
       "      <td>1864.28</td>\n",
       "      <td>C1666544295</td>\n",
       "      <td>21249.0</td>\n",
       "      <td>19384.72</td>\n",
       "      <td>M2044282225</td>\n",
       "      <td>0.0</td>\n",
       "      <td>0.0</td>\n",
       "      <td>0</td>\n",
       "      <td>0</td>\n",
       "    </tr>\n",
       "    <tr>\n",
       "      <th>2</th>\n",
       "      <td>1</td>\n",
       "      <td>TRANSFER</td>\n",
       "      <td>181.00</td>\n",
       "      <td>C1305486145</td>\n",
       "      <td>181.0</td>\n",
       "      <td>0.00</td>\n",
       "      <td>C553264065</td>\n",
       "      <td>0.0</td>\n",
       "      <td>0.0</td>\n",
       "      <td>1</td>\n",
       "      <td>0</td>\n",
       "    </tr>\n",
       "    <tr>\n",
       "      <th>3</th>\n",
       "      <td>1</td>\n",
       "      <td>CASH_OUT</td>\n",
       "      <td>181.00</td>\n",
       "      <td>C840083671</td>\n",
       "      <td>181.0</td>\n",
       "      <td>0.00</td>\n",
       "      <td>C38997010</td>\n",
       "      <td>21182.0</td>\n",
       "      <td>0.0</td>\n",
       "      <td>1</td>\n",
       "      <td>0</td>\n",
       "    </tr>\n",
       "    <tr>\n",
       "      <th>4</th>\n",
       "      <td>1</td>\n",
       "      <td>PAYMENT</td>\n",
       "      <td>11668.14</td>\n",
       "      <td>C2048537720</td>\n",
       "      <td>41554.0</td>\n",
       "      <td>29885.86</td>\n",
       "      <td>M1230701703</td>\n",
       "      <td>0.0</td>\n",
       "      <td>0.0</td>\n",
       "      <td>0</td>\n",
       "      <td>0</td>\n",
       "    </tr>\n",
       "  </tbody>\n",
       "</table>\n",
       "</div>"
      ],
      "text/plain": [
       "   step      type    amount     nameOrig  oldbalanceOrg  newbalanceOrig  \\\n",
       "0     1   PAYMENT   9839.64  C1231006815       170136.0       160296.36   \n",
       "1     1   PAYMENT   1864.28  C1666544295        21249.0        19384.72   \n",
       "2     1  TRANSFER    181.00  C1305486145          181.0            0.00   \n",
       "3     1  CASH_OUT    181.00   C840083671          181.0            0.00   \n",
       "4     1   PAYMENT  11668.14  C2048537720        41554.0        29885.86   \n",
       "\n",
       "      nameDest  oldbalanceDest  newbalanceDest  isFraud  isFlaggedFraud  \n",
       "0  M1979787155             0.0             0.0        0               0  \n",
       "1  M2044282225             0.0             0.0        0               0  \n",
       "2   C553264065             0.0             0.0        1               0  \n",
       "3    C38997010         21182.0             0.0        1               0  \n",
       "4  M1230701703             0.0             0.0        0               0  "
      ]
     },
     "execution_count": 6,
     "metadata": {},
     "output_type": "execute_result"
    }
   ],
   "source": [
    "df.head(5)"
   ]
  },
  {
   "cell_type": "code",
   "execution_count": 7,
   "id": "e6103b48",
   "metadata": {},
   "outputs": [
    {
     "data": {
      "text/html": [
       "<div>\n",
       "<style scoped>\n",
       "    .dataframe tbody tr th:only-of-type {\n",
       "        vertical-align: middle;\n",
       "    }\n",
       "\n",
       "    .dataframe tbody tr th {\n",
       "        vertical-align: top;\n",
       "    }\n",
       "\n",
       "    .dataframe thead th {\n",
       "        text-align: right;\n",
       "    }\n",
       "</style>\n",
       "<table border=\"1\" class=\"dataframe\">\n",
       "  <thead>\n",
       "    <tr style=\"text-align: right;\">\n",
       "      <th></th>\n",
       "      <th>step</th>\n",
       "      <th>type</th>\n",
       "      <th>amount</th>\n",
       "      <th>nameOrig</th>\n",
       "      <th>oldbalanceOrg</th>\n",
       "      <th>newbalanceOrig</th>\n",
       "      <th>nameDest</th>\n",
       "      <th>oldbalanceDest</th>\n",
       "      <th>newbalanceDest</th>\n",
       "      <th>isFraud</th>\n",
       "      <th>isFlaggedFraud</th>\n",
       "    </tr>\n",
       "  </thead>\n",
       "  <tbody>\n",
       "    <tr>\n",
       "      <th>6362615</th>\n",
       "      <td>743</td>\n",
       "      <td>CASH_OUT</td>\n",
       "      <td>339682.13</td>\n",
       "      <td>C786484425</td>\n",
       "      <td>339682.13</td>\n",
       "      <td>0.0</td>\n",
       "      <td>C776919290</td>\n",
       "      <td>0.00</td>\n",
       "      <td>339682.13</td>\n",
       "      <td>1</td>\n",
       "      <td>0</td>\n",
       "    </tr>\n",
       "    <tr>\n",
       "      <th>6362616</th>\n",
       "      <td>743</td>\n",
       "      <td>TRANSFER</td>\n",
       "      <td>6311409.28</td>\n",
       "      <td>C1529008245</td>\n",
       "      <td>6311409.28</td>\n",
       "      <td>0.0</td>\n",
       "      <td>C1881841831</td>\n",
       "      <td>0.00</td>\n",
       "      <td>0.00</td>\n",
       "      <td>1</td>\n",
       "      <td>0</td>\n",
       "    </tr>\n",
       "    <tr>\n",
       "      <th>6362617</th>\n",
       "      <td>743</td>\n",
       "      <td>CASH_OUT</td>\n",
       "      <td>6311409.28</td>\n",
       "      <td>C1162922333</td>\n",
       "      <td>6311409.28</td>\n",
       "      <td>0.0</td>\n",
       "      <td>C1365125890</td>\n",
       "      <td>68488.84</td>\n",
       "      <td>6379898.11</td>\n",
       "      <td>1</td>\n",
       "      <td>0</td>\n",
       "    </tr>\n",
       "    <tr>\n",
       "      <th>6362618</th>\n",
       "      <td>743</td>\n",
       "      <td>TRANSFER</td>\n",
       "      <td>850002.52</td>\n",
       "      <td>C1685995037</td>\n",
       "      <td>850002.52</td>\n",
       "      <td>0.0</td>\n",
       "      <td>C2080388513</td>\n",
       "      <td>0.00</td>\n",
       "      <td>0.00</td>\n",
       "      <td>1</td>\n",
       "      <td>0</td>\n",
       "    </tr>\n",
       "    <tr>\n",
       "      <th>6362619</th>\n",
       "      <td>743</td>\n",
       "      <td>CASH_OUT</td>\n",
       "      <td>850002.52</td>\n",
       "      <td>C1280323807</td>\n",
       "      <td>850002.52</td>\n",
       "      <td>0.0</td>\n",
       "      <td>C873221189</td>\n",
       "      <td>6510099.11</td>\n",
       "      <td>7360101.63</td>\n",
       "      <td>1</td>\n",
       "      <td>0</td>\n",
       "    </tr>\n",
       "  </tbody>\n",
       "</table>\n",
       "</div>"
      ],
      "text/plain": [
       "         step      type      amount     nameOrig  oldbalanceOrg  \\\n",
       "6362615   743  CASH_OUT   339682.13   C786484425      339682.13   \n",
       "6362616   743  TRANSFER  6311409.28  C1529008245     6311409.28   \n",
       "6362617   743  CASH_OUT  6311409.28  C1162922333     6311409.28   \n",
       "6362618   743  TRANSFER   850002.52  C1685995037      850002.52   \n",
       "6362619   743  CASH_OUT   850002.52  C1280323807      850002.52   \n",
       "\n",
       "         newbalanceOrig     nameDest  oldbalanceDest  newbalanceDest  isFraud  \\\n",
       "6362615             0.0   C776919290            0.00       339682.13        1   \n",
       "6362616             0.0  C1881841831            0.00            0.00        1   \n",
       "6362617             0.0  C1365125890        68488.84      6379898.11        1   \n",
       "6362618             0.0  C2080388513            0.00            0.00        1   \n",
       "6362619             0.0   C873221189      6510099.11      7360101.63        1   \n",
       "\n",
       "         isFlaggedFraud  \n",
       "6362615               0  \n",
       "6362616               0  \n",
       "6362617               0  \n",
       "6362618               0  \n",
       "6362619               0  "
      ]
     },
     "execution_count": 7,
     "metadata": {},
     "output_type": "execute_result"
    }
   ],
   "source": [
    "df.tail()"
   ]
  },
  {
   "cell_type": "code",
   "execution_count": 8,
   "id": "214e1a07",
   "metadata": {},
   "outputs": [
    {
     "data": {
      "text/plain": [
       "Index(['step', 'type', 'amount', 'nameOrig', 'oldbalanceOrg', 'newbalanceOrig',\n",
       "       'nameDest', 'oldbalanceDest', 'newbalanceDest', 'isFraud',\n",
       "       'isFlaggedFraud'],\n",
       "      dtype='object')"
      ]
     },
     "execution_count": 8,
     "metadata": {},
     "output_type": "execute_result"
    }
   ],
   "source": [
    "df.columns"
   ]
  },
  {
   "cell_type": "code",
   "execution_count": 9,
   "id": "1c2b2e49",
   "metadata": {},
   "outputs": [
    {
     "data": {
      "text/plain": [
       "(6362620, 11)"
      ]
     },
     "execution_count": 9,
     "metadata": {},
     "output_type": "execute_result"
    }
   ],
   "source": [
    "df.shape"
   ]
  },
  {
   "cell_type": "code",
   "execution_count": 10,
   "id": "110a9d5d",
   "metadata": {},
   "outputs": [
    {
     "name": "stdout",
     "output_type": "stream",
     "text": [
      "<class 'pandas.core.frame.DataFrame'>\n",
      "RangeIndex: 6362620 entries, 0 to 6362619\n",
      "Data columns (total 11 columns):\n",
      " #   Column          Dtype  \n",
      "---  ------          -----  \n",
      " 0   step            int64  \n",
      " 1   type            object \n",
      " 2   amount          float64\n",
      " 3   nameOrig        object \n",
      " 4   oldbalanceOrg   float64\n",
      " 5   newbalanceOrig  float64\n",
      " 6   nameDest        object \n",
      " 7   oldbalanceDest  float64\n",
      " 8   newbalanceDest  float64\n",
      " 9   isFraud         int64  \n",
      " 10  isFlaggedFraud  int64  \n",
      "dtypes: float64(5), int64(3), object(3)\n",
      "memory usage: 534.0+ MB\n"
     ]
    }
   ],
   "source": [
    "df.info()"
   ]
  },
  {
   "cell_type": "code",
   "execution_count": 11,
   "id": "370da5bf",
   "metadata": {},
   "outputs": [
    {
     "data": {
      "text/html": [
       "<div>\n",
       "<style scoped>\n",
       "    .dataframe tbody tr th:only-of-type {\n",
       "        vertical-align: middle;\n",
       "    }\n",
       "\n",
       "    .dataframe tbody tr th {\n",
       "        vertical-align: top;\n",
       "    }\n",
       "\n",
       "    .dataframe thead th {\n",
       "        text-align: right;\n",
       "    }\n",
       "</style>\n",
       "<table border=\"1\" class=\"dataframe\">\n",
       "  <thead>\n",
       "    <tr style=\"text-align: right;\">\n",
       "      <th></th>\n",
       "      <th>step</th>\n",
       "      <th>amount</th>\n",
       "      <th>oldbalanceOrg</th>\n",
       "      <th>newbalanceOrig</th>\n",
       "      <th>oldbalanceDest</th>\n",
       "      <th>newbalanceDest</th>\n",
       "      <th>isFraud</th>\n",
       "      <th>isFlaggedFraud</th>\n",
       "    </tr>\n",
       "  </thead>\n",
       "  <tbody>\n",
       "    <tr>\n",
       "      <th>count</th>\n",
       "      <td>6.362620e+06</td>\n",
       "      <td>6.362620e+06</td>\n",
       "      <td>6.362620e+06</td>\n",
       "      <td>6.362620e+06</td>\n",
       "      <td>6.362620e+06</td>\n",
       "      <td>6.362620e+06</td>\n",
       "      <td>6.362620e+06</td>\n",
       "      <td>6.362620e+06</td>\n",
       "    </tr>\n",
       "    <tr>\n",
       "      <th>mean</th>\n",
       "      <td>2.433972e+02</td>\n",
       "      <td>1.798619e+05</td>\n",
       "      <td>8.338831e+05</td>\n",
       "      <td>8.551137e+05</td>\n",
       "      <td>1.100702e+06</td>\n",
       "      <td>1.224996e+06</td>\n",
       "      <td>1.290820e-03</td>\n",
       "      <td>2.514687e-06</td>\n",
       "    </tr>\n",
       "    <tr>\n",
       "      <th>std</th>\n",
       "      <td>1.423320e+02</td>\n",
       "      <td>6.038582e+05</td>\n",
       "      <td>2.888243e+06</td>\n",
       "      <td>2.924049e+06</td>\n",
       "      <td>3.399180e+06</td>\n",
       "      <td>3.674129e+06</td>\n",
       "      <td>3.590480e-02</td>\n",
       "      <td>1.585775e-03</td>\n",
       "    </tr>\n",
       "    <tr>\n",
       "      <th>min</th>\n",
       "      <td>1.000000e+00</td>\n",
       "      <td>0.000000e+00</td>\n",
       "      <td>0.000000e+00</td>\n",
       "      <td>0.000000e+00</td>\n",
       "      <td>0.000000e+00</td>\n",
       "      <td>0.000000e+00</td>\n",
       "      <td>0.000000e+00</td>\n",
       "      <td>0.000000e+00</td>\n",
       "    </tr>\n",
       "    <tr>\n",
       "      <th>25%</th>\n",
       "      <td>1.560000e+02</td>\n",
       "      <td>1.338957e+04</td>\n",
       "      <td>0.000000e+00</td>\n",
       "      <td>0.000000e+00</td>\n",
       "      <td>0.000000e+00</td>\n",
       "      <td>0.000000e+00</td>\n",
       "      <td>0.000000e+00</td>\n",
       "      <td>0.000000e+00</td>\n",
       "    </tr>\n",
       "    <tr>\n",
       "      <th>50%</th>\n",
       "      <td>2.390000e+02</td>\n",
       "      <td>7.487194e+04</td>\n",
       "      <td>1.420800e+04</td>\n",
       "      <td>0.000000e+00</td>\n",
       "      <td>1.327057e+05</td>\n",
       "      <td>2.146614e+05</td>\n",
       "      <td>0.000000e+00</td>\n",
       "      <td>0.000000e+00</td>\n",
       "    </tr>\n",
       "    <tr>\n",
       "      <th>75%</th>\n",
       "      <td>3.350000e+02</td>\n",
       "      <td>2.087215e+05</td>\n",
       "      <td>1.073152e+05</td>\n",
       "      <td>1.442584e+05</td>\n",
       "      <td>9.430367e+05</td>\n",
       "      <td>1.111909e+06</td>\n",
       "      <td>0.000000e+00</td>\n",
       "      <td>0.000000e+00</td>\n",
       "    </tr>\n",
       "    <tr>\n",
       "      <th>max</th>\n",
       "      <td>7.430000e+02</td>\n",
       "      <td>9.244552e+07</td>\n",
       "      <td>5.958504e+07</td>\n",
       "      <td>4.958504e+07</td>\n",
       "      <td>3.560159e+08</td>\n",
       "      <td>3.561793e+08</td>\n",
       "      <td>1.000000e+00</td>\n",
       "      <td>1.000000e+00</td>\n",
       "    </tr>\n",
       "  </tbody>\n",
       "</table>\n",
       "</div>"
      ],
      "text/plain": [
       "               step        amount  oldbalanceOrg  newbalanceOrig  \\\n",
       "count  6.362620e+06  6.362620e+06   6.362620e+06    6.362620e+06   \n",
       "mean   2.433972e+02  1.798619e+05   8.338831e+05    8.551137e+05   \n",
       "std    1.423320e+02  6.038582e+05   2.888243e+06    2.924049e+06   \n",
       "min    1.000000e+00  0.000000e+00   0.000000e+00    0.000000e+00   \n",
       "25%    1.560000e+02  1.338957e+04   0.000000e+00    0.000000e+00   \n",
       "50%    2.390000e+02  7.487194e+04   1.420800e+04    0.000000e+00   \n",
       "75%    3.350000e+02  2.087215e+05   1.073152e+05    1.442584e+05   \n",
       "max    7.430000e+02  9.244552e+07   5.958504e+07    4.958504e+07   \n",
       "\n",
       "       oldbalanceDest  newbalanceDest       isFraud  isFlaggedFraud  \n",
       "count    6.362620e+06    6.362620e+06  6.362620e+06    6.362620e+06  \n",
       "mean     1.100702e+06    1.224996e+06  1.290820e-03    2.514687e-06  \n",
       "std      3.399180e+06    3.674129e+06  3.590480e-02    1.585775e-03  \n",
       "min      0.000000e+00    0.000000e+00  0.000000e+00    0.000000e+00  \n",
       "25%      0.000000e+00    0.000000e+00  0.000000e+00    0.000000e+00  \n",
       "50%      1.327057e+05    2.146614e+05  0.000000e+00    0.000000e+00  \n",
       "75%      9.430367e+05    1.111909e+06  0.000000e+00    0.000000e+00  \n",
       "max      3.560159e+08    3.561793e+08  1.000000e+00    1.000000e+00  "
      ]
     },
     "execution_count": 11,
     "metadata": {},
     "output_type": "execute_result"
    }
   ],
   "source": [
    "df.describe()"
   ]
  },
  {
   "cell_type": "code",
   "execution_count": 12,
   "id": "7205ee27",
   "metadata": {},
   "outputs": [
    {
     "data": {
      "text/plain": [
       "step              0\n",
       "type              0\n",
       "amount            0\n",
       "nameOrig          0\n",
       "oldbalanceOrg     0\n",
       "newbalanceOrig    0\n",
       "nameDest          0\n",
       "oldbalanceDest    0\n",
       "newbalanceDest    0\n",
       "isFraud           0\n",
       "isFlaggedFraud    0\n",
       "dtype: int64"
      ]
     },
     "execution_count": 12,
     "metadata": {},
     "output_type": "execute_result"
    }
   ],
   "source": [
    "df.isnull().sum()"
   ]
  },
  {
   "cell_type": "code",
   "execution_count": 13,
   "id": "7350443d",
   "metadata": {},
   "outputs": [
    {
     "data": {
      "text/html": [
       "<div>\n",
       "<style scoped>\n",
       "    .dataframe tbody tr th:only-of-type {\n",
       "        vertical-align: middle;\n",
       "    }\n",
       "\n",
       "    .dataframe tbody tr th {\n",
       "        vertical-align: top;\n",
       "    }\n",
       "\n",
       "    .dataframe thead th {\n",
       "        text-align: right;\n",
       "    }\n",
       "</style>\n",
       "<table border=\"1\" class=\"dataframe\">\n",
       "  <thead>\n",
       "    <tr style=\"text-align: right;\">\n",
       "      <th></th>\n",
       "      <th>type</th>\n",
       "      <th>amount</th>\n",
       "      <th>oldbalanceOrg</th>\n",
       "      <th>newbalanceOrig</th>\n",
       "      <th>oldbalanceDest</th>\n",
       "      <th>newbalanceDest</th>\n",
       "      <th>isFraud</th>\n",
       "    </tr>\n",
       "  </thead>\n",
       "  <tbody>\n",
       "    <tr>\n",
       "      <th>0</th>\n",
       "      <td>PAYMENT</td>\n",
       "      <td>9839.64</td>\n",
       "      <td>170136.0</td>\n",
       "      <td>160296.36</td>\n",
       "      <td>0.0</td>\n",
       "      <td>0.0</td>\n",
       "      <td>0</td>\n",
       "    </tr>\n",
       "    <tr>\n",
       "      <th>1</th>\n",
       "      <td>PAYMENT</td>\n",
       "      <td>1864.28</td>\n",
       "      <td>21249.0</td>\n",
       "      <td>19384.72</td>\n",
       "      <td>0.0</td>\n",
       "      <td>0.0</td>\n",
       "      <td>0</td>\n",
       "    </tr>\n",
       "    <tr>\n",
       "      <th>2</th>\n",
       "      <td>TRANSFER</td>\n",
       "      <td>181.00</td>\n",
       "      <td>181.0</td>\n",
       "      <td>0.00</td>\n",
       "      <td>0.0</td>\n",
       "      <td>0.0</td>\n",
       "      <td>1</td>\n",
       "    </tr>\n",
       "    <tr>\n",
       "      <th>3</th>\n",
       "      <td>CASH_OUT</td>\n",
       "      <td>181.00</td>\n",
       "      <td>181.0</td>\n",
       "      <td>0.00</td>\n",
       "      <td>21182.0</td>\n",
       "      <td>0.0</td>\n",
       "      <td>1</td>\n",
       "    </tr>\n",
       "    <tr>\n",
       "      <th>4</th>\n",
       "      <td>PAYMENT</td>\n",
       "      <td>11668.14</td>\n",
       "      <td>41554.0</td>\n",
       "      <td>29885.86</td>\n",
       "      <td>0.0</td>\n",
       "      <td>0.0</td>\n",
       "      <td>0</td>\n",
       "    </tr>\n",
       "  </tbody>\n",
       "</table>\n",
       "</div>"
      ],
      "text/plain": [
       "       type    amount  oldbalanceOrg  newbalanceOrig  oldbalanceDest  \\\n",
       "0   PAYMENT   9839.64       170136.0       160296.36             0.0   \n",
       "1   PAYMENT   1864.28        21249.0        19384.72             0.0   \n",
       "2  TRANSFER    181.00          181.0            0.00             0.0   \n",
       "3  CASH_OUT    181.00          181.0            0.00         21182.0   \n",
       "4   PAYMENT  11668.14        41554.0        29885.86             0.0   \n",
       "\n",
       "   newbalanceDest  isFraud  \n",
       "0             0.0        0  \n",
       "1             0.0        0  \n",
       "2             0.0        1  \n",
       "3             0.0        1  \n",
       "4             0.0        0  "
      ]
     },
     "execution_count": 13,
     "metadata": {},
     "output_type": "execute_result"
    }
   ],
   "source": [
    "df.drop(['step', 'isFlaggedFraud', 'nameDest', 'nameOrig'], axis=1, inplace=True)\n",
    "df.head()"
   ]
  },
  {
   "cell_type": "code",
   "execution_count": 14,
   "id": "e38140ed",
   "metadata": {},
   "outputs": [],
   "source": [
    "## getting insights from the raw data"
   ]
  },
  {
   "cell_type": "code",
   "execution_count": 15,
   "id": "b6489e70",
   "metadata": {},
   "outputs": [
    {
     "data": {
      "image/png": "[encoded data removed]",
      "text/plain": [
       "<Figure size 640x480 with 2 Axes>"
      ]
     },
     "metadata": {},
     "output_type": "display_data"
    }
   ],
   "source": [
    "\n",
    "sns.heatmap(df.isnull(), yticklabels=False)\n",
    "plt.title('Plotting Null Values')\n",
    "plt.show()"
   ]
  },
  {
   "cell_type": "code",
   "execution_count": 16,
   "id": "5cca1bb5",
   "metadata": {},
   "outputs": [],
   "source": [
    "## though there is no null values but we will use imputation technique to fill those values."
   ]
  },
  {
   "cell_type": "code",
   "execution_count": 17,
   "id": "f3f15ea0",
   "metadata": {},
   "outputs": [
    {
     "data": {
      "image/png": "[encoded data removed]",
      "text/plain": [
       "<Figure size 900x500 with 1 Axes>"
      ]
     },
     "metadata": {},
     "output_type": "display_data"
    }
   ],
   "source": [
    "plt.figure(figsize=(9,5))\n",
    "sns.boxplot(df)\n",
    "plt.title('box plot showing outliers in the data')\n",
    "plt.show()"
   ]
  },
  {
   "cell_type": "code",
   "execution_count": 18,
   "id": "a0fe6dc0",
   "metadata": {},
   "outputs": [],
   "source": [
    "## as we can see that there are actually many outliers so we need to remove this during pour preprocessing methods."
   ]
  },
  {
   "cell_type": "code",
   "execution_count": 19,
   "id": "e79ea23e",
   "metadata": {},
   "outputs": [
    {
     "data": {
      "image/png": "[encoded data removed]",
      "text/plain": [
       "<Figure size 640x480 with 1 Axes>"
      ]
     },
     "metadata": {},
     "output_type": "display_data"
    }
   ],
   "source": [
    "sns.countplot(data = df, x ='isFraud', hue='isFraud')\n",
    "plt.title('Count-plot for dependent variable distribution')\n",
    "plt.show()"
   ]
  },
  {
   "cell_type": "code",
   "execution_count": 20,
   "id": "36fb66c2",
   "metadata": {},
   "outputs": [],
   "source": [
    "## maximum cases there were no frauds in the data."
   ]
  },
  {
   "cell_type": "code",
   "execution_count": 21,
   "id": "2b508911",
   "metadata": {},
   "outputs": [
    {
     "data": {
      "text/plain": [
       "array(['PAYMENT', 'TRANSFER', 'CASH_OUT', 'DEBIT', 'CASH_IN'],\n",
       "      dtype=object)"
      ]
     },
     "execution_count": 21,
     "metadata": {},
     "output_type": "execute_result"
    }
   ],
   "source": [
    "df['type'].unique()"
   ]
  },
  {
   "cell_type": "code",
   "execution_count": 22,
   "id": "ecfee2b0",
   "metadata": {},
   "outputs": [
    {
     "data": {
      "text/plain": [
       "5"
      ]
     },
     "execution_count": 22,
     "metadata": {},
     "output_type": "execute_result"
    }
   ],
   "source": [
    "df['type'].nunique()"
   ]
  },
  {
   "cell_type": "code",
   "execution_count": 23,
   "id": "3cb63deb",
   "metadata": {},
   "outputs": [
    {
     "data": {
      "text/html": [
       "<div>\n",
       "<style scoped>\n",
       "    .dataframe tbody tr th:only-of-type {\n",
       "        vertical-align: middle;\n",
       "    }\n",
       "\n",
       "    .dataframe tbody tr th {\n",
       "        vertical-align: top;\n",
       "    }\n",
       "\n",
       "    .dataframe thead th {\n",
       "        text-align: right;\n",
       "    }\n",
       "</style>\n",
       "<table border=\"1\" class=\"dataframe\">\n",
       "  <thead>\n",
       "    <tr style=\"text-align: right;\">\n",
       "      <th></th>\n",
       "      <th>type</th>\n",
       "      <th>amount</th>\n",
       "      <th>oldbalanceOrg</th>\n",
       "      <th>newbalanceOrig</th>\n",
       "      <th>oldbalanceDest</th>\n",
       "      <th>newbalanceDest</th>\n",
       "      <th>isFraud</th>\n",
       "    </tr>\n",
       "  </thead>\n",
       "  <tbody>\n",
       "    <tr>\n",
       "      <th>0</th>\n",
       "      <td>PAYMENT</td>\n",
       "      <td>9839.64</td>\n",
       "      <td>170136.00</td>\n",
       "      <td>160296.36</td>\n",
       "      <td>0.00</td>\n",
       "      <td>0.00</td>\n",
       "      <td>0</td>\n",
       "    </tr>\n",
       "    <tr>\n",
       "      <th>1</th>\n",
       "      <td>PAYMENT</td>\n",
       "      <td>1864.28</td>\n",
       "      <td>21249.00</td>\n",
       "      <td>19384.72</td>\n",
       "      <td>0.00</td>\n",
       "      <td>0.00</td>\n",
       "      <td>0</td>\n",
       "    </tr>\n",
       "    <tr>\n",
       "      <th>2</th>\n",
       "      <td>TRANSFER</td>\n",
       "      <td>181.00</td>\n",
       "      <td>181.00</td>\n",
       "      <td>0.00</td>\n",
       "      <td>0.00</td>\n",
       "      <td>0.00</td>\n",
       "      <td>1</td>\n",
       "    </tr>\n",
       "    <tr>\n",
       "      <th>3</th>\n",
       "      <td>CASH_OUT</td>\n",
       "      <td>181.00</td>\n",
       "      <td>181.00</td>\n",
       "      <td>0.00</td>\n",
       "      <td>21182.00</td>\n",
       "      <td>0.00</td>\n",
       "      <td>1</td>\n",
       "    </tr>\n",
       "    <tr>\n",
       "      <th>4</th>\n",
       "      <td>PAYMENT</td>\n",
       "      <td>11668.14</td>\n",
       "      <td>41554.00</td>\n",
       "      <td>29885.86</td>\n",
       "      <td>0.00</td>\n",
       "      <td>0.00</td>\n",
       "      <td>0</td>\n",
       "    </tr>\n",
       "    <tr>\n",
       "      <th>...</th>\n",
       "      <td>...</td>\n",
       "      <td>...</td>\n",
       "      <td>...</td>\n",
       "      <td>...</td>\n",
       "      <td>...</td>\n",
       "      <td>...</td>\n",
       "      <td>...</td>\n",
       "    </tr>\n",
       "    <tr>\n",
       "      <th>6362615</th>\n",
       "      <td>CASH_OUT</td>\n",
       "      <td>339682.13</td>\n",
       "      <td>339682.13</td>\n",
       "      <td>0.00</td>\n",
       "      <td>0.00</td>\n",
       "      <td>339682.13</td>\n",
       "      <td>1</td>\n",
       "    </tr>\n",
       "    <tr>\n",
       "      <th>6362616</th>\n",
       "      <td>TRANSFER</td>\n",
       "      <td>6311409.28</td>\n",
       "      <td>6311409.28</td>\n",
       "      <td>0.00</td>\n",
       "      <td>0.00</td>\n",
       "      <td>0.00</td>\n",
       "      <td>1</td>\n",
       "    </tr>\n",
       "    <tr>\n",
       "      <th>6362617</th>\n",
       "      <td>CASH_OUT</td>\n",
       "      <td>6311409.28</td>\n",
       "      <td>6311409.28</td>\n",
       "      <td>0.00</td>\n",
       "      <td>68488.84</td>\n",
       "      <td>6379898.11</td>\n",
       "      <td>1</td>\n",
       "    </tr>\n",
       "    <tr>\n",
       "      <th>6362618</th>\n",
       "      <td>TRANSFER</td>\n",
       "      <td>850002.52</td>\n",
       "      <td>850002.52</td>\n",
       "      <td>0.00</td>\n",
       "      <td>0.00</td>\n",
       "      <td>0.00</td>\n",
       "      <td>1</td>\n",
       "    </tr>\n",
       "    <tr>\n",
       "      <th>6362619</th>\n",
       "      <td>CASH_OUT</td>\n",
       "      <td>850002.52</td>\n",
       "      <td>850002.52</td>\n",
       "      <td>0.00</td>\n",
       "      <td>6510099.11</td>\n",
       "      <td>7360101.63</td>\n",
       "      <td>1</td>\n",
       "    </tr>\n",
       "  </tbody>\n",
       "</table>\n",
       "<p>6362620 rows × 7 columns</p>\n",
       "</div>"
      ],
      "text/plain": [
       "             type      amount  oldbalanceOrg  newbalanceOrig  oldbalanceDest  \\\n",
       "0         PAYMENT     9839.64      170136.00       160296.36            0.00   \n",
       "1         PAYMENT     1864.28       21249.00        19384.72            0.00   \n",
       "2        TRANSFER      181.00         181.00            0.00            0.00   \n",
       "3        CASH_OUT      181.00         181.00            0.00        21182.00   \n",
       "4         PAYMENT    11668.14       41554.00        29885.86            0.00   \n",
       "...           ...         ...            ...             ...             ...   \n",
       "6362615  CASH_OUT   339682.13      339682.13            0.00            0.00   \n",
       "6362616  TRANSFER  6311409.28     6311409.28            0.00            0.00   \n",
       "6362617  CASH_OUT  6311409.28     6311409.28            0.00        68488.84   \n",
       "6362618  TRANSFER   850002.52      850002.52            0.00            0.00   \n",
       "6362619  CASH_OUT   850002.52      850002.52            0.00      6510099.11   \n",
       "\n",
       "         newbalanceDest  isFraud  \n",
       "0                  0.00        0  \n",
       "1                  0.00        0  \n",
       "2                  0.00        1  \n",
       "3                  0.00        1  \n",
       "4                  0.00        0  \n",
       "...                 ...      ...  \n",
       "6362615       339682.13        1  \n",
       "6362616            0.00        1  \n",
       "6362617      6379898.11        1  \n",
       "6362618            0.00        1  \n",
       "6362619      7360101.63        1  \n",
       "\n",
       "[6362620 rows x 7 columns]"
      ]
     },
     "execution_count": 23,
     "metadata": {},
     "output_type": "execute_result"
    }
   ],
   "source": [
    "df"
   ]
  },
  {
   "cell_type": "code",
   "execution_count": 24,
   "id": "cbfbb4f5",
   "metadata": {},
   "outputs": [
    {
     "data": {
      "image/png": "[encoded data removed]",
      "text/plain": [
       "<Figure size 1200x800 with 2 Axes>"
      ]
     },
     "metadata": {},
     "output_type": "display_data"
    }
   ],
   "source": [
    "plt.figure(figsize=(12,8))\n",
    "sns.heatmap(df.corr(), annot = True)\n",
    "plt.title('Correlation plot')\n",
    "plt.show()"
   ]
  },
  {
   "cell_type": "code",
   "execution_count": 25,
   "id": "82bf6ea8",
   "metadata": {},
   "outputs": [],
   "source": [
    "## amount is having positive correlation with new balance destination and old balance destination where as the old\n",
    "## balance destination and new balance originator is negatively correlated with the dependent variable isFraud."
   ]
  },
  {
   "cell_type": "code",
   "execution_count": 26,
   "id": "4b0df266",
   "metadata": {},
   "outputs": [
    {
     "data": {
      "image/png": "[encoded data removed]",
      "text/plain": [
       "<Figure size 1200x800 with 1 Axes>"
      ]
     },
     "metadata": {},
     "output_type": "display_data"
    }
   ],
   "source": [
    "plt.figure(figsize=(12,8))\n",
    "sns.scatterplot(data = df, x='amount', y='newbalanceDest')\n",
    "plt.title('relation between amount and newbalacedest')\n",
    "plt.show()"
   ]
  },
  {
   "cell_type": "code",
   "execution_count": 27,
   "id": "51f9be74",
   "metadata": {},
   "outputs": [
    {
     "data": {
      "image/png": "[encoded data removed]",
      "text/plain": [
       "<Figure size 1200x800 with 1 Axes>"
      ]
     },
     "metadata": {},
     "output_type": "display_data"
    }
   ],
   "source": [
    "plt.figure(figsize=(12,8))\n",
    "sns.scatterplot(data= df, x='amount', y='oldbalanceDest')\n",
    "plt.title('relation between amount and oldbalanceDest')\n",
    "plt.show()"
   ]
  },
  {
   "cell_type": "code",
   "execution_count": 28,
   "id": "5f79b9a4",
   "metadata": {},
   "outputs": [],
   "source": [
    "## both teh plots above showing positive correlation between 2 independent variables."
   ]
  },
  {
   "cell_type": "code",
   "execution_count": 29,
   "id": "562318fb",
   "metadata": {},
   "outputs": [
    {
     "data": {
      "image/png": "[encoded data removed]",
      "text/plain": [
       "<Figure size 1200x800 with 1 Axes>"
      ]
     },
     "metadata": {},
     "output_type": "display_data"
    }
   ],
   "source": [
    "plt.figure(figsize=(12,8))\n",
    "sns.scatterplot(data = df, x='amount', y='oldbalanceOrg')\n",
    "plt.title('relation between amount and oldbalanceOrg')\n",
    "plt.show()"
   ]
  },
  {
   "cell_type": "code",
   "execution_count": 30,
   "id": "e6794607",
   "metadata": {},
   "outputs": [],
   "source": [
    "## the above plot shows no correlation at all between the 2 independent variables."
   ]
  },
  {
   "cell_type": "code",
   "execution_count": 31,
   "id": "9b0272fe",
   "metadata": {},
   "outputs": [],
   "source": [
    "## DATA CLEANING"
   ]
  },
  {
   "cell_type": "code",
   "execution_count": 32,
   "id": "6ec32e75",
   "metadata": {},
   "outputs": [],
   "source": [
    "## BALANCING BOTH THE CLASSES AS THERE IS A HUGE MISCLASSIFICATION PROBLEM"
   ]
  },
  {
   "cell_type": "code",
   "execution_count": 33,
   "id": "78166d64",
   "metadata": {},
   "outputs": [],
   "source": [
    "fraud_cases = df[df['isFraud']==1]\n",
    "non_fraud_cases = df[df['isFraud'] == 0]\n"
   ]
  },
  {
   "cell_type": "code",
   "execution_count": 34,
   "id": "0b85bf4c",
   "metadata": {},
   "outputs": [],
   "source": [
    "## undersampling the majority class that is the non-fraud cases\n",
    "\n",
    "non_fraud_downsampled = resample(non_fraud_cases, replace=False, n_samples=len(fraud_cases), random_state=42)\n"
   ]
  },
  {
   "cell_type": "code",
   "execution_count": 35,
   "id": "b7c48ded",
   "metadata": {},
   "outputs": [
    {
     "data": {
      "text/html": [
       "<div>\n",
       "<style scoped>\n",
       "    .dataframe tbody tr th:only-of-type {\n",
       "        vertical-align: middle;\n",
       "    }\n",
       "\n",
       "    .dataframe tbody tr th {\n",
       "        vertical-align: top;\n",
       "    }\n",
       "\n",
       "    .dataframe thead th {\n",
       "        text-align: right;\n",
       "    }\n",
       "</style>\n",
       "<table border=\"1\" class=\"dataframe\">\n",
       "  <thead>\n",
       "    <tr style=\"text-align: right;\">\n",
       "      <th></th>\n",
       "      <th>type</th>\n",
       "      <th>amount</th>\n",
       "      <th>oldbalanceOrg</th>\n",
       "      <th>newbalanceOrig</th>\n",
       "      <th>oldbalanceDest</th>\n",
       "      <th>newbalanceDest</th>\n",
       "      <th>isFraud</th>\n",
       "    </tr>\n",
       "  </thead>\n",
       "  <tbody>\n",
       "    <tr>\n",
       "      <th>2</th>\n",
       "      <td>TRANSFER</td>\n",
       "      <td>181.00</td>\n",
       "      <td>181.00</td>\n",
       "      <td>0.00</td>\n",
       "      <td>0.00</td>\n",
       "      <td>0.00</td>\n",
       "      <td>1</td>\n",
       "    </tr>\n",
       "    <tr>\n",
       "      <th>3</th>\n",
       "      <td>CASH_OUT</td>\n",
       "      <td>181.00</td>\n",
       "      <td>181.00</td>\n",
       "      <td>0.00</td>\n",
       "      <td>21182.00</td>\n",
       "      <td>0.00</td>\n",
       "      <td>1</td>\n",
       "    </tr>\n",
       "    <tr>\n",
       "      <th>251</th>\n",
       "      <td>TRANSFER</td>\n",
       "      <td>2806.00</td>\n",
       "      <td>2806.00</td>\n",
       "      <td>0.00</td>\n",
       "      <td>0.00</td>\n",
       "      <td>0.00</td>\n",
       "      <td>1</td>\n",
       "    </tr>\n",
       "    <tr>\n",
       "      <th>252</th>\n",
       "      <td>CASH_OUT</td>\n",
       "      <td>2806.00</td>\n",
       "      <td>2806.00</td>\n",
       "      <td>0.00</td>\n",
       "      <td>26202.00</td>\n",
       "      <td>0.00</td>\n",
       "      <td>1</td>\n",
       "    </tr>\n",
       "    <tr>\n",
       "      <th>680</th>\n",
       "      <td>TRANSFER</td>\n",
       "      <td>20128.00</td>\n",
       "      <td>20128.00</td>\n",
       "      <td>0.00</td>\n",
       "      <td>0.00</td>\n",
       "      <td>0.00</td>\n",
       "      <td>1</td>\n",
       "    </tr>\n",
       "    <tr>\n",
       "      <th>...</th>\n",
       "      <td>...</td>\n",
       "      <td>...</td>\n",
       "      <td>...</td>\n",
       "      <td>...</td>\n",
       "      <td>...</td>\n",
       "      <td>...</td>\n",
       "      <td>...</td>\n",
       "    </tr>\n",
       "    <tr>\n",
       "      <th>4779354</th>\n",
       "      <td>CASH_OUT</td>\n",
       "      <td>265820.49</td>\n",
       "      <td>0.00</td>\n",
       "      <td>0.00</td>\n",
       "      <td>899770.81</td>\n",
       "      <td>1165591.30</td>\n",
       "      <td>0</td>\n",
       "    </tr>\n",
       "    <tr>\n",
       "      <th>1913121</th>\n",
       "      <td>CASH_IN</td>\n",
       "      <td>186719.44</td>\n",
       "      <td>159.00</td>\n",
       "      <td>186878.44</td>\n",
       "      <td>0.00</td>\n",
       "      <td>0.00</td>\n",
       "      <td>0</td>\n",
       "    </tr>\n",
       "    <tr>\n",
       "      <th>1989584</th>\n",
       "      <td>CASH_OUT</td>\n",
       "      <td>136972.48</td>\n",
       "      <td>0.00</td>\n",
       "      <td>0.00</td>\n",
       "      <td>1140442.13</td>\n",
       "      <td>1277414.61</td>\n",
       "      <td>0</td>\n",
       "    </tr>\n",
       "    <tr>\n",
       "      <th>3085033</th>\n",
       "      <td>PAYMENT</td>\n",
       "      <td>9935.66</td>\n",
       "      <td>286287.65</td>\n",
       "      <td>276351.98</td>\n",
       "      <td>0.00</td>\n",
       "      <td>0.00</td>\n",
       "      <td>0</td>\n",
       "    </tr>\n",
       "    <tr>\n",
       "      <th>4712423</th>\n",
       "      <td>PAYMENT</td>\n",
       "      <td>691.16</td>\n",
       "      <td>0.00</td>\n",
       "      <td>0.00</td>\n",
       "      <td>0.00</td>\n",
       "      <td>0.00</td>\n",
       "      <td>0</td>\n",
       "    </tr>\n",
       "  </tbody>\n",
       "</table>\n",
       "<p>16426 rows × 7 columns</p>\n",
       "</div>"
      ],
      "text/plain": [
       "             type     amount  oldbalanceOrg  newbalanceOrig  oldbalanceDest  \\\n",
       "2        TRANSFER     181.00         181.00            0.00            0.00   \n",
       "3        CASH_OUT     181.00         181.00            0.00        21182.00   \n",
       "251      TRANSFER    2806.00        2806.00            0.00            0.00   \n",
       "252      CASH_OUT    2806.00        2806.00            0.00        26202.00   \n",
       "680      TRANSFER   20128.00       20128.00            0.00            0.00   \n",
       "...           ...        ...            ...             ...             ...   \n",
       "4779354  CASH_OUT  265820.49           0.00            0.00       899770.81   \n",
       "1913121   CASH_IN  186719.44         159.00       186878.44            0.00   \n",
       "1989584  CASH_OUT  136972.48           0.00            0.00      1140442.13   \n",
       "3085033   PAYMENT    9935.66      286287.65       276351.98            0.00   \n",
       "4712423   PAYMENT     691.16           0.00            0.00            0.00   \n",
       "\n",
       "         newbalanceDest  isFraud  \n",
       "2                  0.00        1  \n",
       "3                  0.00        1  \n",
       "251                0.00        1  \n",
       "252                0.00        1  \n",
       "680                0.00        1  \n",
       "...                 ...      ...  \n",
       "4779354      1165591.30        0  \n",
       "1913121            0.00        0  \n",
       "1989584      1277414.61        0  \n",
       "3085033            0.00        0  \n",
       "4712423            0.00        0  \n",
       "\n",
       "[16426 rows x 7 columns]"
      ]
     },
     "execution_count": 35,
     "metadata": {},
     "output_type": "execute_result"
    }
   ],
   "source": [
    "## Creating a balanced dataframe or a new data concatinating both the above dataframes of 2 classes\n",
    "\n",
    "balanced_data = pd.concat([fraud_cases, non_fraud_downsampled])\n",
    "balanced_data"
   ]
  },
  {
   "cell_type": "code",
   "execution_count": 36,
   "id": "47a0e6c8",
   "metadata": {},
   "outputs": [
    {
     "data": {
      "text/plain": [
       "(16426, 7)"
      ]
     },
     "execution_count": 36,
     "metadata": {},
     "output_type": "execute_result"
    }
   ],
   "source": [
    "balanced_data.shape"
   ]
  },
  {
   "cell_type": "code",
   "execution_count": 37,
   "id": "8db83ffa",
   "metadata": {},
   "outputs": [],
   "source": [
    "## REPLACING THE MISSING VALUES WITH THE MEAN AND MEDIAN IMPUTAION TECHNIQUES"
   ]
  },
  {
   "cell_type": "code",
   "execution_count": 38,
   "id": "76a98093",
   "metadata": {},
   "outputs": [
    {
     "data": {
      "text/html": [
       "<div>\n",
       "<style scoped>\n",
       "    .dataframe tbody tr th:only-of-type {\n",
       "        vertical-align: middle;\n",
       "    }\n",
       "\n",
       "    .dataframe tbody tr th {\n",
       "        vertical-align: top;\n",
       "    }\n",
       "\n",
       "    .dataframe thead th {\n",
       "        text-align: right;\n",
       "    }\n",
       "</style>\n",
       "<table border=\"1\" class=\"dataframe\">\n",
       "  <thead>\n",
       "    <tr style=\"text-align: right;\">\n",
       "      <th></th>\n",
       "      <th>amount</th>\n",
       "      <th>oldbalanceOrg</th>\n",
       "      <th>newbalanceOrig</th>\n",
       "      <th>oldbalanceDest</th>\n",
       "      <th>newbalanceDest</th>\n",
       "      <th>isFraud</th>\n",
       "    </tr>\n",
       "  </thead>\n",
       "  <tbody>\n",
       "    <tr>\n",
       "      <th>count</th>\n",
       "      <td>1.642600e+04</td>\n",
       "      <td>1.642600e+04</td>\n",
       "      <td>1.642600e+04</td>\n",
       "      <td>1.642600e+04</td>\n",
       "      <td>1.642600e+04</td>\n",
       "      <td>16426.000000</td>\n",
       "    </tr>\n",
       "    <tr>\n",
       "      <th>mean</th>\n",
       "      <td>8.248655e+05</td>\n",
       "      <td>1.242838e+06</td>\n",
       "      <td>5.257872e+05</td>\n",
       "      <td>8.311948e+05</td>\n",
       "      <td>1.260807e+06</td>\n",
       "      <td>0.500000</td>\n",
       "    </tr>\n",
       "    <tr>\n",
       "      <th>std</th>\n",
       "      <td>1.862573e+06</td>\n",
       "      <td>3.252860e+06</td>\n",
       "      <td>2.505016e+06</td>\n",
       "      <td>3.484266e+06</td>\n",
       "      <td>3.864760e+06</td>\n",
       "      <td>0.500015</td>\n",
       "    </tr>\n",
       "    <tr>\n",
       "      <th>min</th>\n",
       "      <td>0.000000e+00</td>\n",
       "      <td>0.000000e+00</td>\n",
       "      <td>0.000000e+00</td>\n",
       "      <td>0.000000e+00</td>\n",
       "      <td>0.000000e+00</td>\n",
       "      <td>0.000000</td>\n",
       "    </tr>\n",
       "    <tr>\n",
       "      <th>25%</th>\n",
       "      <td>3.815791e+04</td>\n",
       "      <td>1.035827e+04</td>\n",
       "      <td>0.000000e+00</td>\n",
       "      <td>0.000000e+00</td>\n",
       "      <td>0.000000e+00</td>\n",
       "      <td>0.000000</td>\n",
       "    </tr>\n",
       "    <tr>\n",
       "      <th>50%</th>\n",
       "      <td>1.752676e+05</td>\n",
       "      <td>1.212709e+05</td>\n",
       "      <td>0.000000e+00</td>\n",
       "      <td>0.000000e+00</td>\n",
       "      <td>1.297782e+05</td>\n",
       "      <td>0.500000</td>\n",
       "    </tr>\n",
       "    <tr>\n",
       "      <th>75%</th>\n",
       "      <td>5.404362e+05</td>\n",
       "      <td>7.979333e+05</td>\n",
       "      <td>0.000000e+00</td>\n",
       "      <td>5.283537e+05</td>\n",
       "      <td>1.091986e+06</td>\n",
       "      <td>1.000000</td>\n",
       "    </tr>\n",
       "    <tr>\n",
       "      <th>max</th>\n",
       "      <td>3.147911e+07</td>\n",
       "      <td>5.958504e+07</td>\n",
       "      <td>4.958504e+07</td>\n",
       "      <td>2.362305e+08</td>\n",
       "      <td>2.367265e+08</td>\n",
       "      <td>1.000000</td>\n",
       "    </tr>\n",
       "  </tbody>\n",
       "</table>\n",
       "</div>"
      ],
      "text/plain": [
       "             amount  oldbalanceOrg  newbalanceOrig  oldbalanceDest  \\\n",
       "count  1.642600e+04   1.642600e+04    1.642600e+04    1.642600e+04   \n",
       "mean   8.248655e+05   1.242838e+06    5.257872e+05    8.311948e+05   \n",
       "std    1.862573e+06   3.252860e+06    2.505016e+06    3.484266e+06   \n",
       "min    0.000000e+00   0.000000e+00    0.000000e+00    0.000000e+00   \n",
       "25%    3.815791e+04   1.035827e+04    0.000000e+00    0.000000e+00   \n",
       "50%    1.752676e+05   1.212709e+05    0.000000e+00    0.000000e+00   \n",
       "75%    5.404362e+05   7.979333e+05    0.000000e+00    5.283537e+05   \n",
       "max    3.147911e+07   5.958504e+07    4.958504e+07    2.362305e+08   \n",
       "\n",
       "       newbalanceDest       isFraud  \n",
       "count    1.642600e+04  16426.000000  \n",
       "mean     1.260807e+06      0.500000  \n",
       "std      3.864760e+06      0.500015  \n",
       "min      0.000000e+00      0.000000  \n",
       "25%      0.000000e+00      0.000000  \n",
       "50%      1.297782e+05      0.500000  \n",
       "75%      1.091986e+06      1.000000  \n",
       "max      2.367265e+08      1.000000  "
      ]
     },
     "execution_count": 38,
     "metadata": {},
     "output_type": "execute_result"
    }
   ],
   "source": [
    "balanced_data.describe()"
   ]
  },
  {
   "cell_type": "code",
   "execution_count": 39,
   "id": "55021b94",
   "metadata": {},
   "outputs": [
    {
     "data": {
      "text/html": [
       "<div>\n",
       "<style scoped>\n",
       "    .dataframe tbody tr th:only-of-type {\n",
       "        vertical-align: middle;\n",
       "    }\n",
       "\n",
       "    .dataframe tbody tr th {\n",
       "        vertical-align: top;\n",
       "    }\n",
       "\n",
       "    .dataframe thead th {\n",
       "        text-align: right;\n",
       "    }\n",
       "</style>\n",
       "<table border=\"1\" class=\"dataframe\">\n",
       "  <thead>\n",
       "    <tr style=\"text-align: right;\">\n",
       "      <th></th>\n",
       "      <th>type</th>\n",
       "      <th>amount</th>\n",
       "      <th>oldbalanceOrg</th>\n",
       "      <th>newbalanceOrig</th>\n",
       "      <th>oldbalanceDest</th>\n",
       "      <th>newbalanceDest</th>\n",
       "      <th>isFraud</th>\n",
       "    </tr>\n",
       "  </thead>\n",
       "  <tbody>\n",
       "    <tr>\n",
       "      <th>2</th>\n",
       "      <td>TRANSFER</td>\n",
       "      <td>181.00</td>\n",
       "      <td>181.000</td>\n",
       "      <td>525787.155791</td>\n",
       "      <td>8.311948e+05</td>\n",
       "      <td>1.276496e+06</td>\n",
       "      <td>1</td>\n",
       "    </tr>\n",
       "    <tr>\n",
       "      <th>3</th>\n",
       "      <td>CASH_OUT</td>\n",
       "      <td>181.00</td>\n",
       "      <td>181.000</td>\n",
       "      <td>525787.155791</td>\n",
       "      <td>2.118200e+04</td>\n",
       "      <td>1.276496e+06</td>\n",
       "      <td>1</td>\n",
       "    </tr>\n",
       "    <tr>\n",
       "      <th>251</th>\n",
       "      <td>TRANSFER</td>\n",
       "      <td>2806.00</td>\n",
       "      <td>2806.000</td>\n",
       "      <td>525787.155791</td>\n",
       "      <td>8.311948e+05</td>\n",
       "      <td>1.276496e+06</td>\n",
       "      <td>1</td>\n",
       "    </tr>\n",
       "    <tr>\n",
       "      <th>252</th>\n",
       "      <td>CASH_OUT</td>\n",
       "      <td>2806.00</td>\n",
       "      <td>2806.000</td>\n",
       "      <td>525787.155791</td>\n",
       "      <td>2.620200e+04</td>\n",
       "      <td>1.276496e+06</td>\n",
       "      <td>1</td>\n",
       "    </tr>\n",
       "    <tr>\n",
       "      <th>680</th>\n",
       "      <td>TRANSFER</td>\n",
       "      <td>20128.00</td>\n",
       "      <td>20128.000</td>\n",
       "      <td>525787.155791</td>\n",
       "      <td>8.311948e+05</td>\n",
       "      <td>1.276496e+06</td>\n",
       "      <td>1</td>\n",
       "    </tr>\n",
       "    <tr>\n",
       "      <th>...</th>\n",
       "      <td>...</td>\n",
       "      <td>...</td>\n",
       "      <td>...</td>\n",
       "      <td>...</td>\n",
       "      <td>...</td>\n",
       "      <td>...</td>\n",
       "      <td>...</td>\n",
       "    </tr>\n",
       "    <tr>\n",
       "      <th>4779354</th>\n",
       "      <td>CASH_OUT</td>\n",
       "      <td>265820.49</td>\n",
       "      <td>121270.875</td>\n",
       "      <td>525787.155791</td>\n",
       "      <td>8.997708e+05</td>\n",
       "      <td>1.165591e+06</td>\n",
       "      <td>0</td>\n",
       "    </tr>\n",
       "    <tr>\n",
       "      <th>1913121</th>\n",
       "      <td>CASH_IN</td>\n",
       "      <td>186719.44</td>\n",
       "      <td>159.000</td>\n",
       "      <td>186878.440000</td>\n",
       "      <td>8.311948e+05</td>\n",
       "      <td>1.276496e+06</td>\n",
       "      <td>0</td>\n",
       "    </tr>\n",
       "    <tr>\n",
       "      <th>1989584</th>\n",
       "      <td>CASH_OUT</td>\n",
       "      <td>136972.48</td>\n",
       "      <td>121270.875</td>\n",
       "      <td>525787.155791</td>\n",
       "      <td>1.140442e+06</td>\n",
       "      <td>1.277415e+06</td>\n",
       "      <td>0</td>\n",
       "    </tr>\n",
       "    <tr>\n",
       "      <th>3085033</th>\n",
       "      <td>PAYMENT</td>\n",
       "      <td>9935.66</td>\n",
       "      <td>286287.650</td>\n",
       "      <td>276351.980000</td>\n",
       "      <td>8.311948e+05</td>\n",
       "      <td>1.276496e+06</td>\n",
       "      <td>0</td>\n",
       "    </tr>\n",
       "    <tr>\n",
       "      <th>4712423</th>\n",
       "      <td>PAYMENT</td>\n",
       "      <td>691.16</td>\n",
       "      <td>121270.875</td>\n",
       "      <td>525787.155791</td>\n",
       "      <td>8.311948e+05</td>\n",
       "      <td>1.276496e+06</td>\n",
       "      <td>0</td>\n",
       "    </tr>\n",
       "  </tbody>\n",
       "</table>\n",
       "<p>16426 rows × 7 columns</p>\n",
       "</div>"
      ],
      "text/plain": [
       "             type     amount  oldbalanceOrg  newbalanceOrig  oldbalanceDest  \\\n",
       "2        TRANSFER     181.00        181.000   525787.155791    8.311948e+05   \n",
       "3        CASH_OUT     181.00        181.000   525787.155791    2.118200e+04   \n",
       "251      TRANSFER    2806.00       2806.000   525787.155791    8.311948e+05   \n",
       "252      CASH_OUT    2806.00       2806.000   525787.155791    2.620200e+04   \n",
       "680      TRANSFER   20128.00      20128.000   525787.155791    8.311948e+05   \n",
       "...           ...        ...            ...             ...             ...   \n",
       "4779354  CASH_OUT  265820.49     121270.875   525787.155791    8.997708e+05   \n",
       "1913121   CASH_IN  186719.44        159.000   186878.440000    8.311948e+05   \n",
       "1989584  CASH_OUT  136972.48     121270.875   525787.155791    1.140442e+06   \n",
       "3085033   PAYMENT    9935.66     286287.650   276351.980000    8.311948e+05   \n",
       "4712423   PAYMENT     691.16     121270.875   525787.155791    8.311948e+05   \n",
       "\n",
       "         newbalanceDest  isFraud  \n",
       "2          1.276496e+06        1  \n",
       "3          1.276496e+06        1  \n",
       "251        1.276496e+06        1  \n",
       "252        1.276496e+06        1  \n",
       "680        1.276496e+06        1  \n",
       "...                 ...      ...  \n",
       "4779354    1.165591e+06        0  \n",
       "1913121    1.276496e+06        0  \n",
       "1989584    1.277415e+06        0  \n",
       "3085033    1.276496e+06        0  \n",
       "4712423    1.276496e+06        0  \n",
       "\n",
       "[16426 rows x 7 columns]"
      ]
     },
     "execution_count": 39,
     "metadata": {},
     "output_type": "execute_result"
    }
   ],
   "source": [
    "balanced_data['oldbalanceOrg'] = balanced_data['oldbalanceOrg'].replace(0.0, balanced_data['oldbalanceOrg'].median())\n",
    "\n",
    "balanced_data['newbalanceOrig'] = balanced_data['newbalanceOrig'].replace(0.0, balanced_data['newbalanceOrig'].mean())\n",
    "\n",
    "balanced_data['oldbalanceDest'] = balanced_data['oldbalanceDest'].replace(0.0, balanced_data['oldbalanceDest'].mean())\n",
    "\n",
    "balanced_data['newbalanceDest'] = balanced_data['newbalanceDest'].replace(0.0, balanced_data['oldbalanceDest'].mean())\n",
    "\n",
    "\n",
    "balanced_data\n"
   ]
  },
  {
   "cell_type": "code",
   "execution_count": 40,
   "id": "d9b19cf2",
   "metadata": {},
   "outputs": [
    {
     "data": {
      "text/html": [
       "<div>\n",
       "<style scoped>\n",
       "    .dataframe tbody tr th:only-of-type {\n",
       "        vertical-align: middle;\n",
       "    }\n",
       "\n",
       "    .dataframe tbody tr th {\n",
       "        vertical-align: top;\n",
       "    }\n",
       "\n",
       "    .dataframe thead th {\n",
       "        text-align: right;\n",
       "    }\n",
       "</style>\n",
       "<table border=\"1\" class=\"dataframe\">\n",
       "  <thead>\n",
       "    <tr style=\"text-align: right;\">\n",
       "      <th></th>\n",
       "      <th>amount</th>\n",
       "      <th>oldbalanceOrg</th>\n",
       "      <th>newbalanceOrig</th>\n",
       "      <th>oldbalanceDest</th>\n",
       "      <th>newbalanceDest</th>\n",
       "      <th>isFraud</th>\n",
       "    </tr>\n",
       "  </thead>\n",
       "  <tbody>\n",
       "    <tr>\n",
       "      <th>count</th>\n",
       "      <td>1.642600e+04</td>\n",
       "      <td>1.642600e+04</td>\n",
       "      <td>1.642600e+04</td>\n",
       "      <td>1.642600e+04</td>\n",
       "      <td>1.642600e+04</td>\n",
       "      <td>16426.000000</td>\n",
       "    </tr>\n",
       "    <tr>\n",
       "      <th>mean</th>\n",
       "      <td>8.248655e+05</td>\n",
       "      <td>1.263244e+06</td>\n",
       "      <td>9.322751e+05</td>\n",
       "      <td>1.276496e+06</td>\n",
       "      <td>1.820333e+06</td>\n",
       "      <td>0.500000</td>\n",
       "    </tr>\n",
       "    <tr>\n",
       "      <th>std</th>\n",
       "      <td>1.862573e+06</td>\n",
       "      <td>3.245371e+06</td>\n",
       "      <td>2.428193e+06</td>\n",
       "      <td>3.401713e+06</td>\n",
       "      <td>3.731831e+06</td>\n",
       "      <td>0.500015</td>\n",
       "    </tr>\n",
       "    <tr>\n",
       "      <th>min</th>\n",
       "      <td>0.000000e+00</td>\n",
       "      <td>2.000000e+00</td>\n",
       "      <td>1.870000e+00</td>\n",
       "      <td>3.510000e+00</td>\n",
       "      <td>6.380000e+01</td>\n",
       "      <td>0.000000</td>\n",
       "    </tr>\n",
       "    <tr>\n",
       "      <th>25%</th>\n",
       "      <td>3.815791e+04</td>\n",
       "      <td>6.066522e+04</td>\n",
       "      <td>5.257872e+05</td>\n",
       "      <td>7.163911e+05</td>\n",
       "      <td>7.389516e+05</td>\n",
       "      <td>0.000000</td>\n",
       "    </tr>\n",
       "    <tr>\n",
       "      <th>50%</th>\n",
       "      <td>1.752676e+05</td>\n",
       "      <td>1.213349e+05</td>\n",
       "      <td>5.257872e+05</td>\n",
       "      <td>8.311948e+05</td>\n",
       "      <td>1.276496e+06</td>\n",
       "      <td>0.500000</td>\n",
       "    </tr>\n",
       "    <tr>\n",
       "      <th>75%</th>\n",
       "      <td>5.404362e+05</td>\n",
       "      <td>7.979333e+05</td>\n",
       "      <td>5.257872e+05</td>\n",
       "      <td>8.311948e+05</td>\n",
       "      <td>1.276496e+06</td>\n",
       "      <td>1.000000</td>\n",
       "    </tr>\n",
       "    <tr>\n",
       "      <th>max</th>\n",
       "      <td>3.147911e+07</td>\n",
       "      <td>5.958504e+07</td>\n",
       "      <td>4.958504e+07</td>\n",
       "      <td>2.362305e+08</td>\n",
       "      <td>2.367265e+08</td>\n",
       "      <td>1.000000</td>\n",
       "    </tr>\n",
       "  </tbody>\n",
       "</table>\n",
       "</div>"
      ],
      "text/plain": [
       "             amount  oldbalanceOrg  newbalanceOrig  oldbalanceDest  \\\n",
       "count  1.642600e+04   1.642600e+04    1.642600e+04    1.642600e+04   \n",
       "mean   8.248655e+05   1.263244e+06    9.322751e+05    1.276496e+06   \n",
       "std    1.862573e+06   3.245371e+06    2.428193e+06    3.401713e+06   \n",
       "min    0.000000e+00   2.000000e+00    1.870000e+00    3.510000e+00   \n",
       "25%    3.815791e+04   6.066522e+04    5.257872e+05    7.163911e+05   \n",
       "50%    1.752676e+05   1.213349e+05    5.257872e+05    8.311948e+05   \n",
       "75%    5.404362e+05   7.979333e+05    5.257872e+05    8.311948e+05   \n",
       "max    3.147911e+07   5.958504e+07    4.958504e+07    2.362305e+08   \n",
       "\n",
       "       newbalanceDest       isFraud  \n",
       "count    1.642600e+04  16426.000000  \n",
       "mean     1.820333e+06      0.500000  \n",
       "std      3.731831e+06      0.500015  \n",
       "min      6.380000e+01      0.000000  \n",
       "25%      7.389516e+05      0.000000  \n",
       "50%      1.276496e+06      0.500000  \n",
       "75%      1.276496e+06      1.000000  \n",
       "max      2.367265e+08      1.000000  "
      ]
     },
     "execution_count": 40,
     "metadata": {},
     "output_type": "execute_result"
    }
   ],
   "source": [
    "balanced_data.describe()"
   ]
  },
  {
   "cell_type": "code",
   "execution_count": 41,
   "id": "3c25e1f2",
   "metadata": {},
   "outputs": [],
   "source": [
    "## PREPROCESSING"
   ]
  },
  {
   "cell_type": "code",
   "execution_count": 42,
   "id": "da67fd14",
   "metadata": {},
   "outputs": [],
   "source": [
    "## OUTLIER REMOVAL\n"
   ]
  },
  {
   "cell_type": "code",
   "execution_count": 43,
   "id": "a399bff2",
   "metadata": {},
   "outputs": [],
   "source": [
    "columns_to_check = ['amount', 'oldbalanceDest', 'newbalanceDest']\n"
   ]
  },
  {
   "cell_type": "code",
   "execution_count": 44,
   "id": "86e0f9fe",
   "metadata": {},
   "outputs": [],
   "source": [
    "for col in columns_to_check:\n",
    "    Q1 = balanced_data[col].quantile(0.25)\n",
    "    Q3 = balanced_data[col].quantile(0.75)\n",
    "    IQR = Q3 - Q1"
   ]
  },
  {
   "cell_type": "code",
   "execution_count": 45,
   "id": "6ab22f79",
   "metadata": {},
   "outputs": [],
   "source": [
    "lower_bound = Q1 - 1.5 * IQR\n",
    "upper_bound = Q3 + 1.5 * IQR"
   ]
  },
  {
   "cell_type": "code",
   "execution_count": 46,
   "id": "7c96f15c",
   "metadata": {},
   "outputs": [],
   "source": [
    "balanced_data = balanced_data[(balanced_data[col] >= lower_bound) & (balanced_data[col] <= upper_bound)]"
   ]
  },
  {
   "cell_type": "code",
   "execution_count": 47,
   "id": "05549698",
   "metadata": {},
   "outputs": [
    {
     "data": {
      "text/html": [
       "<div>\n",
       "<style scoped>\n",
       "    .dataframe tbody tr th:only-of-type {\n",
       "        vertical-align: middle;\n",
       "    }\n",
       "\n",
       "    .dataframe tbody tr th {\n",
       "        vertical-align: top;\n",
       "    }\n",
       "\n",
       "    .dataframe thead th {\n",
       "        text-align: right;\n",
       "    }\n",
       "</style>\n",
       "<table border=\"1\" class=\"dataframe\">\n",
       "  <thead>\n",
       "    <tr style=\"text-align: right;\">\n",
       "      <th></th>\n",
       "      <th>type</th>\n",
       "      <th>amount</th>\n",
       "      <th>oldbalanceOrg</th>\n",
       "      <th>newbalanceOrig</th>\n",
       "      <th>oldbalanceDest</th>\n",
       "      <th>newbalanceDest</th>\n",
       "      <th>isFraud</th>\n",
       "    </tr>\n",
       "  </thead>\n",
       "  <tbody>\n",
       "    <tr>\n",
       "      <th>2</th>\n",
       "      <td>TRANSFER</td>\n",
       "      <td>181.00</td>\n",
       "      <td>181.000</td>\n",
       "      <td>525787.155791</td>\n",
       "      <td>8.311948e+05</td>\n",
       "      <td>1.276496e+06</td>\n",
       "      <td>1</td>\n",
       "    </tr>\n",
       "    <tr>\n",
       "      <th>3</th>\n",
       "      <td>CASH_OUT</td>\n",
       "      <td>181.00</td>\n",
       "      <td>181.000</td>\n",
       "      <td>525787.155791</td>\n",
       "      <td>2.118200e+04</td>\n",
       "      <td>1.276496e+06</td>\n",
       "      <td>1</td>\n",
       "    </tr>\n",
       "    <tr>\n",
       "      <th>251</th>\n",
       "      <td>TRANSFER</td>\n",
       "      <td>2806.00</td>\n",
       "      <td>2806.000</td>\n",
       "      <td>525787.155791</td>\n",
       "      <td>8.311948e+05</td>\n",
       "      <td>1.276496e+06</td>\n",
       "      <td>1</td>\n",
       "    </tr>\n",
       "    <tr>\n",
       "      <th>252</th>\n",
       "      <td>CASH_OUT</td>\n",
       "      <td>2806.00</td>\n",
       "      <td>2806.000</td>\n",
       "      <td>525787.155791</td>\n",
       "      <td>2.620200e+04</td>\n",
       "      <td>1.276496e+06</td>\n",
       "      <td>1</td>\n",
       "    </tr>\n",
       "    <tr>\n",
       "      <th>680</th>\n",
       "      <td>TRANSFER</td>\n",
       "      <td>20128.00</td>\n",
       "      <td>20128.000</td>\n",
       "      <td>525787.155791</td>\n",
       "      <td>8.311948e+05</td>\n",
       "      <td>1.276496e+06</td>\n",
       "      <td>1</td>\n",
       "    </tr>\n",
       "    <tr>\n",
       "      <th>...</th>\n",
       "      <td>...</td>\n",
       "      <td>...</td>\n",
       "      <td>...</td>\n",
       "      <td>...</td>\n",
       "      <td>...</td>\n",
       "      <td>...</td>\n",
       "      <td>...</td>\n",
       "    </tr>\n",
       "    <tr>\n",
       "      <th>4779354</th>\n",
       "      <td>CASH_OUT</td>\n",
       "      <td>265820.49</td>\n",
       "      <td>121270.875</td>\n",
       "      <td>525787.155791</td>\n",
       "      <td>8.997708e+05</td>\n",
       "      <td>1.165591e+06</td>\n",
       "      <td>0</td>\n",
       "    </tr>\n",
       "    <tr>\n",
       "      <th>1913121</th>\n",
       "      <td>CASH_IN</td>\n",
       "      <td>186719.44</td>\n",
       "      <td>159.000</td>\n",
       "      <td>186878.440000</td>\n",
       "      <td>8.311948e+05</td>\n",
       "      <td>1.276496e+06</td>\n",
       "      <td>0</td>\n",
       "    </tr>\n",
       "    <tr>\n",
       "      <th>1989584</th>\n",
       "      <td>CASH_OUT</td>\n",
       "      <td>136972.48</td>\n",
       "      <td>121270.875</td>\n",
       "      <td>525787.155791</td>\n",
       "      <td>1.140442e+06</td>\n",
       "      <td>1.277415e+06</td>\n",
       "      <td>0</td>\n",
       "    </tr>\n",
       "    <tr>\n",
       "      <th>3085033</th>\n",
       "      <td>PAYMENT</td>\n",
       "      <td>9935.66</td>\n",
       "      <td>286287.650</td>\n",
       "      <td>276351.980000</td>\n",
       "      <td>8.311948e+05</td>\n",
       "      <td>1.276496e+06</td>\n",
       "      <td>0</td>\n",
       "    </tr>\n",
       "    <tr>\n",
       "      <th>4712423</th>\n",
       "      <td>PAYMENT</td>\n",
       "      <td>691.16</td>\n",
       "      <td>121270.875</td>\n",
       "      <td>525787.155791</td>\n",
       "      <td>8.311948e+05</td>\n",
       "      <td>1.276496e+06</td>\n",
       "      <td>0</td>\n",
       "    </tr>\n",
       "  </tbody>\n",
       "</table>\n",
       "<p>13767 rows × 7 columns</p>\n",
       "</div>"
      ],
      "text/plain": [
       "             type     amount  oldbalanceOrg  newbalanceOrig  oldbalanceDest  \\\n",
       "2        TRANSFER     181.00        181.000   525787.155791    8.311948e+05   \n",
       "3        CASH_OUT     181.00        181.000   525787.155791    2.118200e+04   \n",
       "251      TRANSFER    2806.00       2806.000   525787.155791    8.311948e+05   \n",
       "252      CASH_OUT    2806.00       2806.000   525787.155791    2.620200e+04   \n",
       "680      TRANSFER   20128.00      20128.000   525787.155791    8.311948e+05   \n",
       "...           ...        ...            ...             ...             ...   \n",
       "4779354  CASH_OUT  265820.49     121270.875   525787.155791    8.997708e+05   \n",
       "1913121   CASH_IN  186719.44        159.000   186878.440000    8.311948e+05   \n",
       "1989584  CASH_OUT  136972.48     121270.875   525787.155791    1.140442e+06   \n",
       "3085033   PAYMENT    9935.66     286287.650   276351.980000    8.311948e+05   \n",
       "4712423   PAYMENT     691.16     121270.875   525787.155791    8.311948e+05   \n",
       "\n",
       "         newbalanceDest  isFraud  \n",
       "2          1.276496e+06        1  \n",
       "3          1.276496e+06        1  \n",
       "251        1.276496e+06        1  \n",
       "252        1.276496e+06        1  \n",
       "680        1.276496e+06        1  \n",
       "...                 ...      ...  \n",
       "4779354    1.165591e+06        0  \n",
       "1913121    1.276496e+06        0  \n",
       "1989584    1.277415e+06        0  \n",
       "3085033    1.276496e+06        0  \n",
       "4712423    1.276496e+06        0  \n",
       "\n",
       "[13767 rows x 7 columns]"
      ]
     },
     "execution_count": 47,
     "metadata": {},
     "output_type": "execute_result"
    }
   ],
   "source": [
    "balanced_data"
   ]
  },
  {
   "cell_type": "code",
   "execution_count": 48,
   "id": "a8227908",
   "metadata": {},
   "outputs": [],
   "source": [
    "## LABEL ENCODING"
   ]
  },
  {
   "cell_type": "code",
   "execution_count": 49,
   "id": "0c35373a",
   "metadata": {},
   "outputs": [],
   "source": [
    "encoder = LabelEncoder()"
   ]
  },
  {
   "cell_type": "code",
   "execution_count": 50,
   "id": "3e2d8073",
   "metadata": {},
   "outputs": [
    {
     "data": {
      "text/html": [
       "<div>\n",
       "<style scoped>\n",
       "    .dataframe tbody tr th:only-of-type {\n",
       "        vertical-align: middle;\n",
       "    }\n",
       "\n",
       "    .dataframe tbody tr th {\n",
       "        vertical-align: top;\n",
       "    }\n",
       "\n",
       "    .dataframe thead th {\n",
       "        text-align: right;\n",
       "    }\n",
       "</style>\n",
       "<table border=\"1\" class=\"dataframe\">\n",
       "  <thead>\n",
       "    <tr style=\"text-align: right;\">\n",
       "      <th></th>\n",
       "      <th>type</th>\n",
       "      <th>amount</th>\n",
       "      <th>oldbalanceOrg</th>\n",
       "      <th>newbalanceOrig</th>\n",
       "      <th>oldbalanceDest</th>\n",
       "      <th>newbalanceDest</th>\n",
       "      <th>isFraud</th>\n",
       "    </tr>\n",
       "  </thead>\n",
       "  <tbody>\n",
       "    <tr>\n",
       "      <th>2</th>\n",
       "      <td>4</td>\n",
       "      <td>181.00</td>\n",
       "      <td>181.000</td>\n",
       "      <td>525787.155791</td>\n",
       "      <td>8.311948e+05</td>\n",
       "      <td>1.276496e+06</td>\n",
       "      <td>1</td>\n",
       "    </tr>\n",
       "    <tr>\n",
       "      <th>3</th>\n",
       "      <td>1</td>\n",
       "      <td>181.00</td>\n",
       "      <td>181.000</td>\n",
       "      <td>525787.155791</td>\n",
       "      <td>2.118200e+04</td>\n",
       "      <td>1.276496e+06</td>\n",
       "      <td>1</td>\n",
       "    </tr>\n",
       "    <tr>\n",
       "      <th>251</th>\n",
       "      <td>4</td>\n",
       "      <td>2806.00</td>\n",
       "      <td>2806.000</td>\n",
       "      <td>525787.155791</td>\n",
       "      <td>8.311948e+05</td>\n",
       "      <td>1.276496e+06</td>\n",
       "      <td>1</td>\n",
       "    </tr>\n",
       "    <tr>\n",
       "      <th>252</th>\n",
       "      <td>1</td>\n",
       "      <td>2806.00</td>\n",
       "      <td>2806.000</td>\n",
       "      <td>525787.155791</td>\n",
       "      <td>2.620200e+04</td>\n",
       "      <td>1.276496e+06</td>\n",
       "      <td>1</td>\n",
       "    </tr>\n",
       "    <tr>\n",
       "      <th>680</th>\n",
       "      <td>4</td>\n",
       "      <td>20128.00</td>\n",
       "      <td>20128.000</td>\n",
       "      <td>525787.155791</td>\n",
       "      <td>8.311948e+05</td>\n",
       "      <td>1.276496e+06</td>\n",
       "      <td>1</td>\n",
       "    </tr>\n",
       "    <tr>\n",
       "      <th>...</th>\n",
       "      <td>...</td>\n",
       "      <td>...</td>\n",
       "      <td>...</td>\n",
       "      <td>...</td>\n",
       "      <td>...</td>\n",
       "      <td>...</td>\n",
       "      <td>...</td>\n",
       "    </tr>\n",
       "    <tr>\n",
       "      <th>4779354</th>\n",
       "      <td>1</td>\n",
       "      <td>265820.49</td>\n",
       "      <td>121270.875</td>\n",
       "      <td>525787.155791</td>\n",
       "      <td>8.997708e+05</td>\n",
       "      <td>1.165591e+06</td>\n",
       "      <td>0</td>\n",
       "    </tr>\n",
       "    <tr>\n",
       "      <th>1913121</th>\n",
       "      <td>0</td>\n",
       "      <td>186719.44</td>\n",
       "      <td>159.000</td>\n",
       "      <td>186878.440000</td>\n",
       "      <td>8.311948e+05</td>\n",
       "      <td>1.276496e+06</td>\n",
       "      <td>0</td>\n",
       "    </tr>\n",
       "    <tr>\n",
       "      <th>1989584</th>\n",
       "      <td>1</td>\n",
       "      <td>136972.48</td>\n",
       "      <td>121270.875</td>\n",
       "      <td>525787.155791</td>\n",
       "      <td>1.140442e+06</td>\n",
       "      <td>1.277415e+06</td>\n",
       "      <td>0</td>\n",
       "    </tr>\n",
       "    <tr>\n",
       "      <th>3085033</th>\n",
       "      <td>3</td>\n",
       "      <td>9935.66</td>\n",
       "      <td>286287.650</td>\n",
       "      <td>276351.980000</td>\n",
       "      <td>8.311948e+05</td>\n",
       "      <td>1.276496e+06</td>\n",
       "      <td>0</td>\n",
       "    </tr>\n",
       "    <tr>\n",
       "      <th>4712423</th>\n",
       "      <td>3</td>\n",
       "      <td>691.16</td>\n",
       "      <td>121270.875</td>\n",
       "      <td>525787.155791</td>\n",
       "      <td>8.311948e+05</td>\n",
       "      <td>1.276496e+06</td>\n",
       "      <td>0</td>\n",
       "    </tr>\n",
       "  </tbody>\n",
       "</table>\n",
       "<p>13767 rows × 7 columns</p>\n",
       "</div>"
      ],
      "text/plain": [
       "         type     amount  oldbalanceOrg  newbalanceOrig  oldbalanceDest  \\\n",
       "2           4     181.00        181.000   525787.155791    8.311948e+05   \n",
       "3           1     181.00        181.000   525787.155791    2.118200e+04   \n",
       "251         4    2806.00       2806.000   525787.155791    8.311948e+05   \n",
       "252         1    2806.00       2806.000   525787.155791    2.620200e+04   \n",
       "680         4   20128.00      20128.000   525787.155791    8.311948e+05   \n",
       "...       ...        ...            ...             ...             ...   \n",
       "4779354     1  265820.49     121270.875   525787.155791    8.997708e+05   \n",
       "1913121     0  186719.44        159.000   186878.440000    8.311948e+05   \n",
       "1989584     1  136972.48     121270.875   525787.155791    1.140442e+06   \n",
       "3085033     3    9935.66     286287.650   276351.980000    8.311948e+05   \n",
       "4712423     3     691.16     121270.875   525787.155791    8.311948e+05   \n",
       "\n",
       "         newbalanceDest  isFraud  \n",
       "2          1.276496e+06        1  \n",
       "3          1.276496e+06        1  \n",
       "251        1.276496e+06        1  \n",
       "252        1.276496e+06        1  \n",
       "680        1.276496e+06        1  \n",
       "...                 ...      ...  \n",
       "4779354    1.165591e+06        0  \n",
       "1913121    1.276496e+06        0  \n",
       "1989584    1.277415e+06        0  \n",
       "3085033    1.276496e+06        0  \n",
       "4712423    1.276496e+06        0  \n",
       "\n",
       "[13767 rows x 7 columns]"
      ]
     },
     "execution_count": 50,
     "metadata": {},
     "output_type": "execute_result"
    }
   ],
   "source": [
    "balanced_data['type'] = encoder.fit_transform(balanced_data['type'])\n",
    "\n",
    "balanced_data"
   ]
  },
  {
   "cell_type": "code",
   "execution_count": 51,
   "id": "4b2a62f3",
   "metadata": {},
   "outputs": [],
   "source": [
    "## we should not scale the dependent variables so we need to scale only the features but before that we should split \n",
    "## the data into x and y"
   ]
  },
  {
   "cell_type": "code",
   "execution_count": 52,
   "id": "463145cc",
   "metadata": {},
   "outputs": [],
   "source": [
    "## SPLIT INTO X AND Y"
   ]
  },
  {
   "cell_type": "code",
   "execution_count": 53,
   "id": "e8779266",
   "metadata": {},
   "outputs": [],
   "source": [
    "x = balanced_data.drop('isFraud', axis =1)\n",
    "\n",
    "y = balanced_data['isFraud']"
   ]
  },
  {
   "cell_type": "code",
   "execution_count": 54,
   "id": "040ee3df",
   "metadata": {},
   "outputs": [
    {
     "data": {
      "text/html": [
       "<div>\n",
       "<style scoped>\n",
       "    .dataframe tbody tr th:only-of-type {\n",
       "        vertical-align: middle;\n",
       "    }\n",
       "\n",
       "    .dataframe tbody tr th {\n",
       "        vertical-align: top;\n",
       "    }\n",
       "\n",
       "    .dataframe thead th {\n",
       "        text-align: right;\n",
       "    }\n",
       "</style>\n",
       "<table border=\"1\" class=\"dataframe\">\n",
       "  <thead>\n",
       "    <tr style=\"text-align: right;\">\n",
       "      <th></th>\n",
       "      <th>type</th>\n",
       "      <th>amount</th>\n",
       "      <th>oldbalanceOrg</th>\n",
       "      <th>newbalanceOrig</th>\n",
       "      <th>oldbalanceDest</th>\n",
       "      <th>newbalanceDest</th>\n",
       "    </tr>\n",
       "  </thead>\n",
       "  <tbody>\n",
       "    <tr>\n",
       "      <th>2</th>\n",
       "      <td>4</td>\n",
       "      <td>181.00</td>\n",
       "      <td>181.000</td>\n",
       "      <td>525787.155791</td>\n",
       "      <td>8.311948e+05</td>\n",
       "      <td>1.276496e+06</td>\n",
       "    </tr>\n",
       "    <tr>\n",
       "      <th>3</th>\n",
       "      <td>1</td>\n",
       "      <td>181.00</td>\n",
       "      <td>181.000</td>\n",
       "      <td>525787.155791</td>\n",
       "      <td>2.118200e+04</td>\n",
       "      <td>1.276496e+06</td>\n",
       "    </tr>\n",
       "    <tr>\n",
       "      <th>251</th>\n",
       "      <td>4</td>\n",
       "      <td>2806.00</td>\n",
       "      <td>2806.000</td>\n",
       "      <td>525787.155791</td>\n",
       "      <td>8.311948e+05</td>\n",
       "      <td>1.276496e+06</td>\n",
       "    </tr>\n",
       "    <tr>\n",
       "      <th>252</th>\n",
       "      <td>1</td>\n",
       "      <td>2806.00</td>\n",
       "      <td>2806.000</td>\n",
       "      <td>525787.155791</td>\n",
       "      <td>2.620200e+04</td>\n",
       "      <td>1.276496e+06</td>\n",
       "    </tr>\n",
       "    <tr>\n",
       "      <th>680</th>\n",
       "      <td>4</td>\n",
       "      <td>20128.00</td>\n",
       "      <td>20128.000</td>\n",
       "      <td>525787.155791</td>\n",
       "      <td>8.311948e+05</td>\n",
       "      <td>1.276496e+06</td>\n",
       "    </tr>\n",
       "    <tr>\n",
       "      <th>...</th>\n",
       "      <td>...</td>\n",
       "      <td>...</td>\n",
       "      <td>...</td>\n",
       "      <td>...</td>\n",
       "      <td>...</td>\n",
       "      <td>...</td>\n",
       "    </tr>\n",
       "    <tr>\n",
       "      <th>4779354</th>\n",
       "      <td>1</td>\n",
       "      <td>265820.49</td>\n",
       "      <td>121270.875</td>\n",
       "      <td>525787.155791</td>\n",
       "      <td>8.997708e+05</td>\n",
       "      <td>1.165591e+06</td>\n",
       "    </tr>\n",
       "    <tr>\n",
       "      <th>1913121</th>\n",
       "      <td>0</td>\n",
       "      <td>186719.44</td>\n",
       "      <td>159.000</td>\n",
       "      <td>186878.440000</td>\n",
       "      <td>8.311948e+05</td>\n",
       "      <td>1.276496e+06</td>\n",
       "    </tr>\n",
       "    <tr>\n",
       "      <th>1989584</th>\n",
       "      <td>1</td>\n",
       "      <td>136972.48</td>\n",
       "      <td>121270.875</td>\n",
       "      <td>525787.155791</td>\n",
       "      <td>1.140442e+06</td>\n",
       "      <td>1.277415e+06</td>\n",
       "    </tr>\n",
       "    <tr>\n",
       "      <th>3085033</th>\n",
       "      <td>3</td>\n",
       "      <td>9935.66</td>\n",
       "      <td>286287.650</td>\n",
       "      <td>276351.980000</td>\n",
       "      <td>8.311948e+05</td>\n",
       "      <td>1.276496e+06</td>\n",
       "    </tr>\n",
       "    <tr>\n",
       "      <th>4712423</th>\n",
       "      <td>3</td>\n",
       "      <td>691.16</td>\n",
       "      <td>121270.875</td>\n",
       "      <td>525787.155791</td>\n",
       "      <td>8.311948e+05</td>\n",
       "      <td>1.276496e+06</td>\n",
       "    </tr>\n",
       "  </tbody>\n",
       "</table>\n",
       "<p>13767 rows × 6 columns</p>\n",
       "</div>"
      ],
      "text/plain": [
       "         type     amount  oldbalanceOrg  newbalanceOrig  oldbalanceDest  \\\n",
       "2           4     181.00        181.000   525787.155791    8.311948e+05   \n",
       "3           1     181.00        181.000   525787.155791    2.118200e+04   \n",
       "251         4    2806.00       2806.000   525787.155791    8.311948e+05   \n",
       "252         1    2806.00       2806.000   525787.155791    2.620200e+04   \n",
       "680         4   20128.00      20128.000   525787.155791    8.311948e+05   \n",
       "...       ...        ...            ...             ...             ...   \n",
       "4779354     1  265820.49     121270.875   525787.155791    8.997708e+05   \n",
       "1913121     0  186719.44        159.000   186878.440000    8.311948e+05   \n",
       "1989584     1  136972.48     121270.875   525787.155791    1.140442e+06   \n",
       "3085033     3    9935.66     286287.650   276351.980000    8.311948e+05   \n",
       "4712423     3     691.16     121270.875   525787.155791    8.311948e+05   \n",
       "\n",
       "         newbalanceDest  \n",
       "2          1.276496e+06  \n",
       "3          1.276496e+06  \n",
       "251        1.276496e+06  \n",
       "252        1.276496e+06  \n",
       "680        1.276496e+06  \n",
       "...                 ...  \n",
       "4779354    1.165591e+06  \n",
       "1913121    1.276496e+06  \n",
       "1989584    1.277415e+06  \n",
       "3085033    1.276496e+06  \n",
       "4712423    1.276496e+06  \n",
       "\n",
       "[13767 rows x 6 columns]"
      ]
     },
     "execution_count": 54,
     "metadata": {},
     "output_type": "execute_result"
    }
   ],
   "source": [
    "x"
   ]
  },
  {
   "cell_type": "code",
   "execution_count": 55,
   "id": "b5599fde",
   "metadata": {},
   "outputs": [
    {
     "data": {
      "text/plain": [
       "2          1\n",
       "3          1\n",
       "251        1\n",
       "252        1\n",
       "680        1\n",
       "          ..\n",
       "4779354    0\n",
       "1913121    0\n",
       "1989584    0\n",
       "3085033    0\n",
       "4712423    0\n",
       "Name: isFraud, Length: 13767, dtype: int64"
      ]
     },
     "execution_count": 55,
     "metadata": {},
     "output_type": "execute_result"
    }
   ],
   "source": [
    "y"
   ]
  },
  {
   "cell_type": "code",
   "execution_count": 56,
   "id": "ba8811cc",
   "metadata": {},
   "outputs": [],
   "source": [
    "## SCALING THE FEATURES TO BRING THEM ON A LINEAR OR A SAME SCALE (FEATURE ENGINEERING)"
   ]
  },
  {
   "cell_type": "code",
   "execution_count": 57,
   "id": "84c2acf9",
   "metadata": {},
   "outputs": [],
   "source": [
    "scaler = StandardScaler()"
   ]
  },
  {
   "cell_type": "code",
   "execution_count": 58,
   "id": "92e6039e",
   "metadata": {},
   "outputs": [
    {
     "data": {
      "text/plain": [
       "array([[ 1.16728358, -0.39980997, -0.33273211, -0.16091986,  0.3235418 ,\n",
       "         0.59859242],\n",
       "       [-0.84498702, -0.39980997, -0.33273211, -0.16091986, -2.07209868,\n",
       "         0.59859242],\n",
       "       [ 1.16728358, -0.39801736, -0.33189524, -0.16091986,  0.3235418 ,\n",
       "         0.59859242],\n",
       "       ...,\n",
       "       [-0.84498702, -0.30639541, -0.29412791, -0.16091986,  1.23815143,\n",
       "         0.60049269],\n",
       "       [ 0.49652671, -0.39314854, -0.24151954, -0.26380323,  0.3235418 ,\n",
       "         0.59859242],\n",
       "       [ 0.49652671, -0.39946158, -0.29412791, -0.16091986,  0.3235418 ,\n",
       "         0.59859242]])"
      ]
     },
     "execution_count": 58,
     "metadata": {},
     "output_type": "execute_result"
    }
   ],
   "source": [
    "x_scaled = scaler.fit_transform(x)\n",
    "\n",
    "x_scaled"
   ]
  },
  {
   "cell_type": "code",
   "execution_count": 59,
   "id": "d2df208e",
   "metadata": {},
   "outputs": [],
   "source": [
    "## CONTROLLING THE SPLIT RANDOMNESS\n"
   ]
  },
  {
   "cell_type": "code",
   "execution_count": 60,
   "id": "d7cfb8af",
   "metadata": {},
   "outputs": [],
   "source": [
    "np.random.seed(42)"
   ]
  },
  {
   "cell_type": "code",
   "execution_count": 61,
   "id": "680fc4ec",
   "metadata": {},
   "outputs": [],
   "source": [
    "## SPLITTING THE DATA SET INTO TRAIN AND TEST DATA"
   ]
  },
  {
   "cell_type": "code",
   "execution_count": 62,
   "id": "17b89b72",
   "metadata": {},
   "outputs": [],
   "source": [
    "x_train, x_test, y_train, y_test = train_test_split(x_scaled, y, test_size= 0.2, random_state=42)"
   ]
  },
  {
   "cell_type": "code",
   "execution_count": 63,
   "id": "37a02d3c",
   "metadata": {},
   "outputs": [
    {
     "name": "stdout",
     "output_type": "stream",
     "text": [
      "(11013, 6) (11013,)\n"
     ]
    }
   ],
   "source": [
    "print(x_train.shape, y_train.shape)"
   ]
  },
  {
   "cell_type": "code",
   "execution_count": 64,
   "id": "bb15c3f2",
   "metadata": {},
   "outputs": [
    {
     "name": "stdout",
     "output_type": "stream",
     "text": [
      "(2754, 6) (2754,)\n"
     ]
    }
   ],
   "source": [
    "print(x_test.shape, y_test.shape)"
   ]
  },
  {
   "cell_type": "code",
   "execution_count": 65,
   "id": "fe085975",
   "metadata": {},
   "outputs": [],
   "source": [
    "## MULTI-COLINEARITY"
   ]
  },
  {
   "cell_type": "code",
   "execution_count": 66,
   "id": "74366ba4",
   "metadata": {},
   "outputs": [],
   "source": [
    "## y = bo + b1x1 + b2x2 + b3x3 + b4x4 + b5x5 +b6x6\n",
    "\n",
    "## y = fraud prediction\n",
    "## x1 = 'type'\n",
    "## x2 = 'amount'\n",
    "## x3 = 'oldbalanceOrg'\n",
    "## x4 = 'newbalanceOrig'\n",
    "## x5 = 'oldbalanceDest'\n",
    "## x6 = 'newbalanceDest'\n",
    "\n",
    "## b1 =6"
   ]
  },
  {
   "cell_type": "code",
   "execution_count": 67,
   "id": "c321d526",
   "metadata": {},
   "outputs": [],
   "source": [
    "vif = []\n",
    "\n",
    "for i in range(x_train.shape[1]):\n",
    "    vif.append(variance_inflation_factor(x_train, i))\n"
   ]
  },
  {
   "cell_type": "code",
   "execution_count": 68,
   "id": "7622d0de",
   "metadata": {},
   "outputs": [
    {
     "data": {
      "text/plain": [
       "[1.5602254814862517,\n",
       " 27.00832791323855,\n",
       " 123.14195715542249,\n",
       " 75.71121971008193,\n",
       " 1.584787388697752,\n",
       " 2.0767580930376197]"
      ]
     },
     "execution_count": 68,
     "metadata": {},
     "output_type": "execute_result"
    }
   ],
   "source": [
    "vif"
   ]
  },
  {
   "cell_type": "code",
   "execution_count": 69,
   "id": "38126a84",
   "metadata": {},
   "outputs": [
    {
     "data": {
      "text/html": [
       "<div>\n",
       "<style scoped>\n",
       "    .dataframe tbody tr th:only-of-type {\n",
       "        vertical-align: middle;\n",
       "    }\n",
       "\n",
       "    .dataframe tbody tr th {\n",
       "        vertical-align: top;\n",
       "    }\n",
       "\n",
       "    .dataframe thead th {\n",
       "        text-align: right;\n",
       "    }\n",
       "</style>\n",
       "<table border=\"1\" class=\"dataframe\">\n",
       "  <thead>\n",
       "    <tr style=\"text-align: right;\">\n",
       "      <th></th>\n",
       "      <th>type</th>\n",
       "      <th>amount</th>\n",
       "      <th>oldbalanceOrg</th>\n",
       "      <th>newbalanceOrig</th>\n",
       "      <th>oldbalanceDest</th>\n",
       "      <th>newbalanceDest</th>\n",
       "    </tr>\n",
       "  </thead>\n",
       "  <tbody>\n",
       "    <tr>\n",
       "      <th>vif</th>\n",
       "      <td>1.560225</td>\n",
       "      <td>27.008328</td>\n",
       "      <td>123.141957</td>\n",
       "      <td>75.71122</td>\n",
       "      <td>1.584787</td>\n",
       "      <td>2.076758</td>\n",
       "    </tr>\n",
       "  </tbody>\n",
       "</table>\n",
       "</div>"
      ],
      "text/plain": [
       "         type     amount  oldbalanceOrg  newbalanceOrig  oldbalanceDest  \\\n",
       "vif  1.560225  27.008328     123.141957        75.71122        1.584787   \n",
       "\n",
       "     newbalanceDest  \n",
       "vif        2.076758  "
      ]
     },
     "execution_count": 69,
     "metadata": {},
     "output_type": "execute_result"
    }
   ],
   "source": [
    "pd.DataFrame({'vif':vif}, index = balanced_data.columns[0:6]).T"
   ]
  },
  {
   "cell_type": "code",
   "execution_count": 70,
   "id": "619b2b85",
   "metadata": {},
   "outputs": [
    {
     "data": {
      "image/png": "[encoded data removed]",
      "text/plain": [
       "<Figure size 640x480 with 2 Axes>"
      ]
     },
     "metadata": {},
     "output_type": "display_data"
    }
   ],
   "source": [
    "## visualising it \n",
    "\n",
    "sns.heatmap(balanced_data.iloc[:,0:6].corr(), annot=True)\n",
    "plt.title('multicolinearity plot')\n",
    "plt.show()"
   ]
  },
  {
   "cell_type": "code",
   "execution_count": 71,
   "id": "4af1f2a8",
   "metadata": {},
   "outputs": [],
   "source": [
    "## OR "
   ]
  },
  {
   "cell_type": "code",
   "execution_count": 72,
   "id": "0ca89ec1",
   "metadata": {},
   "outputs": [
    {
     "data": {
      "image/png": "[encoded data removed]",
      "text/plain": [
       "<Figure size 640x480 with 2 Axes>"
      ]
     },
     "metadata": {},
     "output_type": "display_data"
    }
   ],
   "source": [
    "sns.heatmap(balanced_data.drop('isFraud', axis=1).corr(), annot = True)\n",
    "plt.show()"
   ]
  },
  {
   "cell_type": "code",
   "execution_count": 73,
   "id": "14199a37",
   "metadata": {},
   "outputs": [],
   "source": [
    "## as we can notice that transaction type and new balance destination are positively correlated to each other, old balance\n",
    "## destination and new balance destination are positive correlation to each other and amount and old balance originator \n",
    "## are positively correlated to each other."
   ]
  },
  {
   "cell_type": "code",
   "execution_count": 74,
   "id": "0cebaae0",
   "metadata": {},
   "outputs": [],
   "source": [
    "## MODEL BUILDING"
   ]
  },
  {
   "cell_type": "code",
   "execution_count": 75,
   "id": "080ace40",
   "metadata": {},
   "outputs": [],
   "source": [
    "## LOGISTIC REGRESSION "
   ]
  },
  {
   "cell_type": "code",
   "execution_count": 76,
   "id": "84e2e122",
   "metadata": {},
   "outputs": [],
   "source": [
    "## CREATING THE MODEL"
   ]
  },
  {
   "cell_type": "code",
   "execution_count": 77,
   "id": "38146bd0",
   "metadata": {},
   "outputs": [],
   "source": [
    "log_m = LogisticRegression()"
   ]
  },
  {
   "cell_type": "code",
   "execution_count": 78,
   "id": "20a98aa5",
   "metadata": {},
   "outputs": [],
   "source": [
    "## DEFINING THE PARAMETERS\n",
    "\n",
    "\n",
    "param_grid = {'C' :[0.01, 0.1, 1, 10, 100]}"
   ]
  },
  {
   "cell_type": "code",
   "execution_count": 79,
   "id": "59078f7e",
   "metadata": {},
   "outputs": [],
   "source": [
    "## GRID SEARCH CV FOR HYPER-PARAMETER TUNNING TO GET THE BEST PREDICTION FROM THE MODEL"
   ]
  },
  {
   "cell_type": "code",
   "execution_count": 80,
   "id": "ac43d95b",
   "metadata": {},
   "outputs": [],
   "source": [
    "grid_log = GridSearchCV(log_m, param_grid, cv = 5)"
   ]
  },
  {
   "cell_type": "code",
   "execution_count": 81,
   "id": "d4515e4a",
   "metadata": {},
   "outputs": [],
   "source": [
    "## TRAINING OR FITTING THE MODEL"
   ]
  },
  {
   "cell_type": "code",
   "execution_count": 82,
   "id": "7cbf5435",
   "metadata": {},
   "outputs": [
    {
     "data": {
      "text/html": [
       "<style>#sk-container-id-1 {color: black;background-color: white;}#sk-container-id-1 pre{padding: 0;}#sk-container-id-1 div.sk-toggleable {background-color: white;}#sk-container-id-1 label.sk-toggleable__label {cursor: pointer;display: block;width: 100%;margin-bottom: 0;padding: 0.3em;box-sizing: border-box;text-align: center;}#sk-container-id-1 label.sk-toggleable__label-arrow:before {content: \"▸\";float: left;margin-right: 0.25em;color: #696969;}#sk-container-id-1 label.sk-toggleable__label-arrow:hover:before {color: black;}#sk-container-id-1 div.sk-estimator:hover label.sk-toggleable__label-arrow:before {color: black;}#sk-container-id-1 div.sk-toggleable__content {max-height: 0;max-width: 0;overflow: hidden;text-align: left;background-color: #f0f8ff;}#sk-container-id-1 div.sk-toggleable__content pre {margin: 0.2em;color: black;border-radius: 0.25em;background-color: #f0f8ff;}#sk-container-id-1 input.sk-toggleable__control:checked~div.sk-toggleable__content {max-height: 200px;max-width: 100%;overflow: auto;}#sk-container-id-1 input.sk-toggleable__control:checked~label.sk-toggleable__label-arrow:before {content: \"▾\";}#sk-container-id-1 div.sk-estimator input.sk-toggleable__control:checked~label.sk-toggleable__label {background-color: #d4ebff;}#sk-container-id-1 div.sk-label input.sk-toggleable__control:checked~label.sk-toggleable__label {background-color: #d4ebff;}#sk-container-id-1 input.sk-hidden--visually {border: 0;clip: rect(1px 1px 1px 1px);clip: rect(1px, 1px, 1px, 1px);height: 1px;margin: -1px;overflow: hidden;padding: 0;position: absolute;width: 1px;}#sk-container-id-1 div.sk-estimator {font-family: monospace;background-color: #f0f8ff;border: 1px dotted black;border-radius: 0.25em;box-sizing: border-box;margin-bottom: 0.5em;}#sk-container-id-1 div.sk-estimator:hover {background-color: #d4ebff;}#sk-container-id-1 div.sk-parallel-item::after {content: \"\";width: 100%;border-bottom: 1px solid gray;flex-grow: 1;}#sk-container-id-1 div.sk-label:hover label.sk-toggleable__label {background-color: #d4ebff;}#sk-container-id-1 div.sk-serial::before {content: \"\";position: absolute;border-left: 1px solid gray;box-sizing: border-box;top: 0;bottom: 0;left: 50%;z-index: 0;}#sk-container-id-1 div.sk-serial {display: flex;flex-direction: column;align-items: center;background-color: white;padding-right: 0.2em;padding-left: 0.2em;position: relative;}#sk-container-id-1 div.sk-item {position: relative;z-index: 1;}#sk-container-id-1 div.sk-parallel {display: flex;align-items: stretch;justify-content: center;background-color: white;position: relative;}#sk-container-id-1 div.sk-item::before, #sk-container-id-1 div.sk-parallel-item::before {content: \"\";position: absolute;border-left: 1px solid gray;box-sizing: border-box;top: 0;bottom: 0;left: 50%;z-index: -1;}#sk-container-id-1 div.sk-parallel-item {display: flex;flex-direction: column;z-index: 1;position: relative;background-color: white;}#sk-container-id-1 div.sk-parallel-item:first-child::after {align-self: flex-end;width: 50%;}#sk-container-id-1 div.sk-parallel-item:last-child::after {align-self: flex-start;width: 50%;}#sk-container-id-1 div.sk-parallel-item:only-child::after {width: 0;}#sk-container-id-1 div.sk-dashed-wrapped {border: 1px dashed gray;margin: 0 0.4em 0.5em 0.4em;box-sizing: border-box;padding-bottom: 0.4em;background-color: white;}#sk-container-id-1 div.sk-label label {font-family: monospace;font-weight: bold;display: inline-block;line-height: 1.2em;}#sk-container-id-1 div.sk-label-container {text-align: center;}#sk-container-id-1 div.sk-container {/* jupyter's `normalize.less` sets `[hidden] { display: none; }` but bootstrap.min.css set `[hidden] { display: none !important; }` so we also need the `!important` here to be able to override the default hidden behavior on the sphinx rendered scikit-learn.org. See: https://github.com/scikit-learn/scikit-learn/issues/21755 */display: inline-block !important;position: relative;}#sk-container-id-1 div.sk-text-repr-fallback {display: none;}</style><div id=\"sk-container-id-1\" class=\"sk-top-container\"><div class=\"sk-text-repr-fallback\"><pre>GridSearchCV(cv=5, estimator=LogisticRegression(),\n",
       "             param_grid={&#x27;C&#x27;: [0.01, 0.1, 1, 10, 100]})</pre><b>In a Jupyter environment, please rerun this cell to show the HTML representation or trust the notebook. <br />On GitHub, the HTML representation is unable to render, please try loading this page with nbviewer.org.</b></div><div class=\"sk-container\" hidden><div class=\"sk-item sk-dashed-wrapped\"><div class=\"sk-label-container\"><div class=\"sk-label sk-toggleable\"><input class=\"sk-toggleable__control sk-hidden--visually\" id=\"sk-estimator-id-1\" type=\"checkbox\" ><label for=\"sk-estimator-id-1\" class=\"sk-toggleable__label sk-toggleable__label-arrow\">GridSearchCV</label><div class=\"sk-toggleable__content\"><pre>GridSearchCV(cv=5, estimator=LogisticRegression(),\n",
       "             param_grid={&#x27;C&#x27;: [0.01, 0.1, 1, 10, 100]})</pre></div></div></div><div class=\"sk-parallel\"><div class=\"sk-parallel-item\"><div class=\"sk-item\"><div class=\"sk-label-container\"><div class=\"sk-label sk-toggleable\"><input class=\"sk-toggleable__control sk-hidden--visually\" id=\"sk-estimator-id-2\" type=\"checkbox\" ><label for=\"sk-estimator-id-2\" class=\"sk-toggleable__label sk-toggleable__label-arrow\">estimator: LogisticRegression</label><div class=\"sk-toggleable__content\"><pre>LogisticRegression()</pre></div></div></div><div class=\"sk-serial\"><div class=\"sk-item\"><div class=\"sk-estimator sk-toggleable\"><input class=\"sk-toggleable__control sk-hidden--visually\" id=\"sk-estimator-id-3\" type=\"checkbox\" ><label for=\"sk-estimator-id-3\" class=\"sk-toggleable__label sk-toggleable__label-arrow\">LogisticRegression</label><div class=\"sk-toggleable__content\"><pre>LogisticRegression()</pre></div></div></div></div></div></div></div></div></div></div>"
      ],
      "text/plain": [
       "GridSearchCV(cv=5, estimator=LogisticRegression(),\n",
       "             param_grid={'C': [0.01, 0.1, 1, 10, 100]})"
      ]
     },
     "execution_count": 82,
     "metadata": {},
     "output_type": "execute_result"
    }
   ],
   "source": [
    "grid_log.fit(x_train, y_train)"
   ]
  },
  {
   "cell_type": "code",
   "execution_count": 83,
   "id": "dfe2a20e",
   "metadata": {},
   "outputs": [],
   "source": [
    "## FINDING THE BEST PARAMETER AND THE ESTIMATOR"
   ]
  },
  {
   "cell_type": "code",
   "execution_count": 84,
   "id": "cb6ca4f1",
   "metadata": {},
   "outputs": [
    {
     "data": {
      "text/plain": [
       "{'C': 100}"
      ]
     },
     "execution_count": 84,
     "metadata": {},
     "output_type": "execute_result"
    }
   ],
   "source": [
    "grid_log.best_params_"
   ]
  },
  {
   "cell_type": "code",
   "execution_count": 85,
   "id": "54b901b0",
   "metadata": {},
   "outputs": [
    {
     "data": {
      "text/html": [
       "<style>#sk-container-id-2 {color: black;background-color: white;}#sk-container-id-2 pre{padding: 0;}#sk-container-id-2 div.sk-toggleable {background-color: white;}#sk-container-id-2 label.sk-toggleable__label {cursor: pointer;display: block;width: 100%;margin-bottom: 0;padding: 0.3em;box-sizing: border-box;text-align: center;}#sk-container-id-2 label.sk-toggleable__label-arrow:before {content: \"▸\";float: left;margin-right: 0.25em;color: #696969;}#sk-container-id-2 label.sk-toggleable__label-arrow:hover:before {color: black;}#sk-container-id-2 div.sk-estimator:hover label.sk-toggleable__label-arrow:before {color: black;}#sk-container-id-2 div.sk-toggleable__content {max-height: 0;max-width: 0;overflow: hidden;text-align: left;background-color: #f0f8ff;}#sk-container-id-2 div.sk-toggleable__content pre {margin: 0.2em;color: black;border-radius: 0.25em;background-color: #f0f8ff;}#sk-container-id-2 input.sk-toggleable__control:checked~div.sk-toggleable__content {max-height: 200px;max-width: 100%;overflow: auto;}#sk-container-id-2 input.sk-toggleable__control:checked~label.sk-toggleable__label-arrow:before {content: \"▾\";}#sk-container-id-2 div.sk-estimator input.sk-toggleable__control:checked~label.sk-toggleable__label {background-color: #d4ebff;}#sk-container-id-2 div.sk-label input.sk-toggleable__control:checked~label.sk-toggleable__label {background-color: #d4ebff;}#sk-container-id-2 input.sk-hidden--visually {border: 0;clip: rect(1px 1px 1px 1px);clip: rect(1px, 1px, 1px, 1px);height: 1px;margin: -1px;overflow: hidden;padding: 0;position: absolute;width: 1px;}#sk-container-id-2 div.sk-estimator {font-family: monospace;background-color: #f0f8ff;border: 1px dotted black;border-radius: 0.25em;box-sizing: border-box;margin-bottom: 0.5em;}#sk-container-id-2 div.sk-estimator:hover {background-color: #d4ebff;}#sk-container-id-2 div.sk-parallel-item::after {content: \"\";width: 100%;border-bottom: 1px solid gray;flex-grow: 1;}#sk-container-id-2 div.sk-label:hover label.sk-toggleable__label {background-color: #d4ebff;}#sk-container-id-2 div.sk-serial::before {content: \"\";position: absolute;border-left: 1px solid gray;box-sizing: border-box;top: 0;bottom: 0;left: 50%;z-index: 0;}#sk-container-id-2 div.sk-serial {display: flex;flex-direction: column;align-items: center;background-color: white;padding-right: 0.2em;padding-left: 0.2em;position: relative;}#sk-container-id-2 div.sk-item {position: relative;z-index: 1;}#sk-container-id-2 div.sk-parallel {display: flex;align-items: stretch;justify-content: center;background-color: white;position: relative;}#sk-container-id-2 div.sk-item::before, #sk-container-id-2 div.sk-parallel-item::before {content: \"\";position: absolute;border-left: 1px solid gray;box-sizing: border-box;top: 0;bottom: 0;left: 50%;z-index: -1;}#sk-container-id-2 div.sk-parallel-item {display: flex;flex-direction: column;z-index: 1;position: relative;background-color: white;}#sk-container-id-2 div.sk-parallel-item:first-child::after {align-self: flex-end;width: 50%;}#sk-container-id-2 div.sk-parallel-item:last-child::after {align-self: flex-start;width: 50%;}#sk-container-id-2 div.sk-parallel-item:only-child::after {width: 0;}#sk-container-id-2 div.sk-dashed-wrapped {border: 1px dashed gray;margin: 0 0.4em 0.5em 0.4em;box-sizing: border-box;padding-bottom: 0.4em;background-color: white;}#sk-container-id-2 div.sk-label label {font-family: monospace;font-weight: bold;display: inline-block;line-height: 1.2em;}#sk-container-id-2 div.sk-label-container {text-align: center;}#sk-container-id-2 div.sk-container {/* jupyter's `normalize.less` sets `[hidden] { display: none; }` but bootstrap.min.css set `[hidden] { display: none !important; }` so we also need the `!important` here to be able to override the default hidden behavior on the sphinx rendered scikit-learn.org. See: https://github.com/scikit-learn/scikit-learn/issues/21755 */display: inline-block !important;position: relative;}#sk-container-id-2 div.sk-text-repr-fallback {display: none;}</style><div id=\"sk-container-id-2\" class=\"sk-top-container\"><div class=\"sk-text-repr-fallback\"><pre>LogisticRegression(C=100)</pre><b>In a Jupyter environment, please rerun this cell to show the HTML representation or trust the notebook. <br />On GitHub, the HTML representation is unable to render, please try loading this page with nbviewer.org.</b></div><div class=\"sk-container\" hidden><div class=\"sk-item\"><div class=\"sk-estimator sk-toggleable\"><input class=\"sk-toggleable__control sk-hidden--visually\" id=\"sk-estimator-id-4\" type=\"checkbox\" checked><label for=\"sk-estimator-id-4\" class=\"sk-toggleable__label sk-toggleable__label-arrow\">LogisticRegression</label><div class=\"sk-toggleable__content\"><pre>LogisticRegression(C=100)</pre></div></div></div></div></div>"
      ],
      "text/plain": [
       "LogisticRegression(C=100)"
      ]
     },
     "execution_count": 85,
     "metadata": {},
     "output_type": "execute_result"
    }
   ],
   "source": [
    "best_log = grid_log.best_estimator_\n",
    "\n",
    "best_log"
   ]
  },
  {
   "cell_type": "code",
   "execution_count": 86,
   "id": "0d6fb09e",
   "metadata": {},
   "outputs": [],
   "source": [
    "## PREDICTION FROM THE MODEL"
   ]
  },
  {
   "cell_type": "code",
   "execution_count": 87,
   "id": "ab08db71",
   "metadata": {},
   "outputs": [],
   "source": [
    "grid_log_pred = grid_log.predict(x_test)"
   ]
  },
  {
   "cell_type": "code",
   "execution_count": 88,
   "id": "c004a364",
   "metadata": {},
   "outputs": [],
   "source": [
    "## EVALUATING THE MODEL PERFORMANCE"
   ]
  },
  {
   "cell_type": "code",
   "execution_count": 89,
   "id": "8118013c",
   "metadata": {},
   "outputs": [
    {
     "name": "stdout",
     "output_type": "stream",
     "text": [
      "[[1210  181]\n",
      " [ 318 1045]]\n"
     ]
    }
   ],
   "source": [
    "print(confusion_matrix(y_test, grid_log_pred))"
   ]
  },
  {
   "cell_type": "code",
   "execution_count": 90,
   "id": "028a85cf",
   "metadata": {},
   "outputs": [
    {
     "name": "stdout",
     "output_type": "stream",
     "text": [
      "              precision    recall  f1-score   support\n",
      "\n",
      "           0       0.79      0.87      0.83      1391\n",
      "           1       0.85      0.77      0.81      1363\n",
      "\n",
      "    accuracy                           0.82      2754\n",
      "   macro avg       0.82      0.82      0.82      2754\n",
      "weighted avg       0.82      0.82      0.82      2754\n",
      "\n"
     ]
    }
   ],
   "source": [
    "print(classification_report(y_test, grid_log_pred))"
   ]
  },
  {
   "cell_type": "code",
   "execution_count": 91,
   "id": "f1d1e161",
   "metadata": {},
   "outputs": [],
   "source": [
    "## RANDOM FOREST"
   ]
  },
  {
   "cell_type": "code",
   "execution_count": 92,
   "id": "5f33ca22",
   "metadata": {},
   "outputs": [],
   "source": [
    "## creating a model "
   ]
  },
  {
   "cell_type": "code",
   "execution_count": 93,
   "id": "856f5db1",
   "metadata": {},
   "outputs": [],
   "source": [
    "rd_mo = RandomForestClassifier()"
   ]
  },
  {
   "cell_type": "code",
   "execution_count": 94,
   "id": "5014e00a",
   "metadata": {},
   "outputs": [],
   "source": [
    "## defining the parameters"
   ]
  },
  {
   "cell_type": "code",
   "execution_count": 95,
   "id": "f86c0c88",
   "metadata": {},
   "outputs": [],
   "source": [
    "param_rand =  {'n_estimators': [50, 100, 200]}"
   ]
  },
  {
   "cell_type": "code",
   "execution_count": 96,
   "id": "ccf8b967",
   "metadata": {},
   "outputs": [],
   "source": [
    "## GRID SEARCH CV FOR HYPERPARANMETER TUNNING"
   ]
  },
  {
   "cell_type": "code",
   "execution_count": 97,
   "id": "d78c150d",
   "metadata": {},
   "outputs": [],
   "source": [
    "grid_ran = GridSearchCV(rd_mo, param_rand, cv = 5)"
   ]
  },
  {
   "cell_type": "code",
   "execution_count": 98,
   "id": "c1edd708",
   "metadata": {},
   "outputs": [
    {
     "data": {
      "text/html": [
       "<style>#sk-container-id-3 {color: black;background-color: white;}#sk-container-id-3 pre{padding: 0;}#sk-container-id-3 div.sk-toggleable {background-color: white;}#sk-container-id-3 label.sk-toggleable__label {cursor: pointer;display: block;width: 100%;margin-bottom: 0;padding: 0.3em;box-sizing: border-box;text-align: center;}#sk-container-id-3 label.sk-toggleable__label-arrow:before {content: \"▸\";float: left;margin-right: 0.25em;color: #696969;}#sk-container-id-3 label.sk-toggleable__label-arrow:hover:before {color: black;}#sk-container-id-3 div.sk-estimator:hover label.sk-toggleable__label-arrow:before {color: black;}#sk-container-id-3 div.sk-toggleable__content {max-height: 0;max-width: 0;overflow: hidden;text-align: left;background-color: #f0f8ff;}#sk-container-id-3 div.sk-toggleable__content pre {margin: 0.2em;color: black;border-radius: 0.25em;background-color: #f0f8ff;}#sk-container-id-3 input.sk-toggleable__control:checked~div.sk-toggleable__content {max-height: 200px;max-width: 100%;overflow: auto;}#sk-container-id-3 input.sk-toggleable__control:checked~label.sk-toggleable__label-arrow:before {content: \"▾\";}#sk-container-id-3 div.sk-estimator input.sk-toggleable__control:checked~label.sk-toggleable__label {background-color: #d4ebff;}#sk-container-id-3 div.sk-label input.sk-toggleable__control:checked~label.sk-toggleable__label {background-color: #d4ebff;}#sk-container-id-3 input.sk-hidden--visually {border: 0;clip: rect(1px 1px 1px 1px);clip: rect(1px, 1px, 1px, 1px);height: 1px;margin: -1px;overflow: hidden;padding: 0;position: absolute;width: 1px;}#sk-container-id-3 div.sk-estimator {font-family: monospace;background-color: #f0f8ff;border: 1px dotted black;border-radius: 0.25em;box-sizing: border-box;margin-bottom: 0.5em;}#sk-container-id-3 div.sk-estimator:hover {background-color: #d4ebff;}#sk-container-id-3 div.sk-parallel-item::after {content: \"\";width: 100%;border-bottom: 1px solid gray;flex-grow: 1;}#sk-container-id-3 div.sk-label:hover label.sk-toggleable__label {background-color: #d4ebff;}#sk-container-id-3 div.sk-serial::before {content: \"\";position: absolute;border-left: 1px solid gray;box-sizing: border-box;top: 0;bottom: 0;left: 50%;z-index: 0;}#sk-container-id-3 div.sk-serial {display: flex;flex-direction: column;align-items: center;background-color: white;padding-right: 0.2em;padding-left: 0.2em;position: relative;}#sk-container-id-3 div.sk-item {position: relative;z-index: 1;}#sk-container-id-3 div.sk-parallel {display: flex;align-items: stretch;justify-content: center;background-color: white;position: relative;}#sk-container-id-3 div.sk-item::before, #sk-container-id-3 div.sk-parallel-item::before {content: \"\";position: absolute;border-left: 1px solid gray;box-sizing: border-box;top: 0;bottom: 0;left: 50%;z-index: -1;}#sk-container-id-3 div.sk-parallel-item {display: flex;flex-direction: column;z-index: 1;position: relative;background-color: white;}#sk-container-id-3 div.sk-parallel-item:first-child::after {align-self: flex-end;width: 50%;}#sk-container-id-3 div.sk-parallel-item:last-child::after {align-self: flex-start;width: 50%;}#sk-container-id-3 div.sk-parallel-item:only-child::after {width: 0;}#sk-container-id-3 div.sk-dashed-wrapped {border: 1px dashed gray;margin: 0 0.4em 0.5em 0.4em;box-sizing: border-box;padding-bottom: 0.4em;background-color: white;}#sk-container-id-3 div.sk-label label {font-family: monospace;font-weight: bold;display: inline-block;line-height: 1.2em;}#sk-container-id-3 div.sk-label-container {text-align: center;}#sk-container-id-3 div.sk-container {/* jupyter's `normalize.less` sets `[hidden] { display: none; }` but bootstrap.min.css set `[hidden] { display: none !important; }` so we also need the `!important` here to be able to override the default hidden behavior on the sphinx rendered scikit-learn.org. See: https://github.com/scikit-learn/scikit-learn/issues/21755 */display: inline-block !important;position: relative;}#sk-container-id-3 div.sk-text-repr-fallback {display: none;}</style><div id=\"sk-container-id-3\" class=\"sk-top-container\"><div class=\"sk-text-repr-fallback\"><pre>GridSearchCV(cv=5, estimator=RandomForestClassifier(),\n",
       "             param_grid={&#x27;n_estimators&#x27;: [50, 100, 200]})</pre><b>In a Jupyter environment, please rerun this cell to show the HTML representation or trust the notebook. <br />On GitHub, the HTML representation is unable to render, please try loading this page with nbviewer.org.</b></div><div class=\"sk-container\" hidden><div class=\"sk-item sk-dashed-wrapped\"><div class=\"sk-label-container\"><div class=\"sk-label sk-toggleable\"><input class=\"sk-toggleable__control sk-hidden--visually\" id=\"sk-estimator-id-5\" type=\"checkbox\" ><label for=\"sk-estimator-id-5\" class=\"sk-toggleable__label sk-toggleable__label-arrow\">GridSearchCV</label><div class=\"sk-toggleable__content\"><pre>GridSearchCV(cv=5, estimator=RandomForestClassifier(),\n",
       "             param_grid={&#x27;n_estimators&#x27;: [50, 100, 200]})</pre></div></div></div><div class=\"sk-parallel\"><div class=\"sk-parallel-item\"><div class=\"sk-item\"><div class=\"sk-label-container\"><div class=\"sk-label sk-toggleable\"><input class=\"sk-toggleable__control sk-hidden--visually\" id=\"sk-estimator-id-6\" type=\"checkbox\" ><label for=\"sk-estimator-id-6\" class=\"sk-toggleable__label sk-toggleable__label-arrow\">estimator: RandomForestClassifier</label><div class=\"sk-toggleable__content\"><pre>RandomForestClassifier()</pre></div></div></div><div class=\"sk-serial\"><div class=\"sk-item\"><div class=\"sk-estimator sk-toggleable\"><input class=\"sk-toggleable__control sk-hidden--visually\" id=\"sk-estimator-id-7\" type=\"checkbox\" ><label for=\"sk-estimator-id-7\" class=\"sk-toggleable__label sk-toggleable__label-arrow\">RandomForestClassifier</label><div class=\"sk-toggleable__content\"><pre>RandomForestClassifier()</pre></div></div></div></div></div></div></div></div></div></div>"
      ],
      "text/plain": [
       "GridSearchCV(cv=5, estimator=RandomForestClassifier(),\n",
       "             param_grid={'n_estimators': [50, 100, 200]})"
      ]
     },
     "execution_count": 98,
     "metadata": {},
     "output_type": "execute_result"
    }
   ],
   "source": [
    "## TRAINING THE MODEL\n",
    "\n",
    "grid_ran.fit(x_train, y_train)"
   ]
  },
  {
   "cell_type": "code",
   "execution_count": 99,
   "id": "3daee587",
   "metadata": {},
   "outputs": [],
   "source": [
    "## FINDING THE BEST PARAMETER AND ESTIMATOR"
   ]
  },
  {
   "cell_type": "code",
   "execution_count": 100,
   "id": "b699ad86",
   "metadata": {},
   "outputs": [
    {
     "data": {
      "text/plain": [
       "{'n_estimators': 200}"
      ]
     },
     "execution_count": 100,
     "metadata": {},
     "output_type": "execute_result"
    }
   ],
   "source": [
    "grid_ran.best_params_"
   ]
  },
  {
   "cell_type": "code",
   "execution_count": 101,
   "id": "82659970",
   "metadata": {},
   "outputs": [
    {
     "data": {
      "text/html": [
       "<style>#sk-container-id-4 {color: black;background-color: white;}#sk-container-id-4 pre{padding: 0;}#sk-container-id-4 div.sk-toggleable {background-color: white;}#sk-container-id-4 label.sk-toggleable__label {cursor: pointer;display: block;width: 100%;margin-bottom: 0;padding: 0.3em;box-sizing: border-box;text-align: center;}#sk-container-id-4 label.sk-toggleable__label-arrow:before {content: \"▸\";float: left;margin-right: 0.25em;color: #696969;}#sk-container-id-4 label.sk-toggleable__label-arrow:hover:before {color: black;}#sk-container-id-4 div.sk-estimator:hover label.sk-toggleable__label-arrow:before {color: black;}#sk-container-id-4 div.sk-toggleable__content {max-height: 0;max-width: 0;overflow: hidden;text-align: left;background-color: #f0f8ff;}#sk-container-id-4 div.sk-toggleable__content pre {margin: 0.2em;color: black;border-radius: 0.25em;background-color: #f0f8ff;}#sk-container-id-4 input.sk-toggleable__control:checked~div.sk-toggleable__content {max-height: 200px;max-width: 100%;overflow: auto;}#sk-container-id-4 input.sk-toggleable__control:checked~label.sk-toggleable__label-arrow:before {content: \"▾\";}#sk-container-id-4 div.sk-estimator input.sk-toggleable__control:checked~label.sk-toggleable__label {background-color: #d4ebff;}#sk-container-id-4 div.sk-label input.sk-toggleable__control:checked~label.sk-toggleable__label {background-color: #d4ebff;}#sk-container-id-4 input.sk-hidden--visually {border: 0;clip: rect(1px 1px 1px 1px);clip: rect(1px, 1px, 1px, 1px);height: 1px;margin: -1px;overflow: hidden;padding: 0;position: absolute;width: 1px;}#sk-container-id-4 div.sk-estimator {font-family: monospace;background-color: #f0f8ff;border: 1px dotted black;border-radius: 0.25em;box-sizing: border-box;margin-bottom: 0.5em;}#sk-container-id-4 div.sk-estimator:hover {background-color: #d4ebff;}#sk-container-id-4 div.sk-parallel-item::after {content: \"\";width: 100%;border-bottom: 1px solid gray;flex-grow: 1;}#sk-container-id-4 div.sk-label:hover label.sk-toggleable__label {background-color: #d4ebff;}#sk-container-id-4 div.sk-serial::before {content: \"\";position: absolute;border-left: 1px solid gray;box-sizing: border-box;top: 0;bottom: 0;left: 50%;z-index: 0;}#sk-container-id-4 div.sk-serial {display: flex;flex-direction: column;align-items: center;background-color: white;padding-right: 0.2em;padding-left: 0.2em;position: relative;}#sk-container-id-4 div.sk-item {position: relative;z-index: 1;}#sk-container-id-4 div.sk-parallel {display: flex;align-items: stretch;justify-content: center;background-color: white;position: relative;}#sk-container-id-4 div.sk-item::before, #sk-container-id-4 div.sk-parallel-item::before {content: \"\";position: absolute;border-left: 1px solid gray;box-sizing: border-box;top: 0;bottom: 0;left: 50%;z-index: -1;}#sk-container-id-4 div.sk-parallel-item {display: flex;flex-direction: column;z-index: 1;position: relative;background-color: white;}#sk-container-id-4 div.sk-parallel-item:first-child::after {align-self: flex-end;width: 50%;}#sk-container-id-4 div.sk-parallel-item:last-child::after {align-self: flex-start;width: 50%;}#sk-container-id-4 div.sk-parallel-item:only-child::after {width: 0;}#sk-container-id-4 div.sk-dashed-wrapped {border: 1px dashed gray;margin: 0 0.4em 0.5em 0.4em;box-sizing: border-box;padding-bottom: 0.4em;background-color: white;}#sk-container-id-4 div.sk-label label {font-family: monospace;font-weight: bold;display: inline-block;line-height: 1.2em;}#sk-container-id-4 div.sk-label-container {text-align: center;}#sk-container-id-4 div.sk-container {/* jupyter's `normalize.less` sets `[hidden] { display: none; }` but bootstrap.min.css set `[hidden] { display: none !important; }` so we also need the `!important` here to be able to override the default hidden behavior on the sphinx rendered scikit-learn.org. See: https://github.com/scikit-learn/scikit-learn/issues/21755 */display: inline-block !important;position: relative;}#sk-container-id-4 div.sk-text-repr-fallback {display: none;}</style><div id=\"sk-container-id-4\" class=\"sk-top-container\"><div class=\"sk-text-repr-fallback\"><pre>RandomForestClassifier(n_estimators=200)</pre><b>In a Jupyter environment, please rerun this cell to show the HTML representation or trust the notebook. <br />On GitHub, the HTML representation is unable to render, please try loading this page with nbviewer.org.</b></div><div class=\"sk-container\" hidden><div class=\"sk-item\"><div class=\"sk-estimator sk-toggleable\"><input class=\"sk-toggleable__control sk-hidden--visually\" id=\"sk-estimator-id-8\" type=\"checkbox\" checked><label for=\"sk-estimator-id-8\" class=\"sk-toggleable__label sk-toggleable__label-arrow\">RandomForestClassifier</label><div class=\"sk-toggleable__content\"><pre>RandomForestClassifier(n_estimators=200)</pre></div></div></div></div></div>"
      ],
      "text/plain": [
       "RandomForestClassifier(n_estimators=200)"
      ]
     },
     "execution_count": 101,
     "metadata": {},
     "output_type": "execute_result"
    }
   ],
   "source": [
    "best_ran = grid_ran.best_estimator_\n",
    "best_ran"
   ]
  },
  {
   "cell_type": "code",
   "execution_count": 102,
   "id": "4730a47b",
   "metadata": {},
   "outputs": [],
   "source": [
    "## PREDICTIONS FROM THE MODEL"
   ]
  },
  {
   "cell_type": "code",
   "execution_count": 103,
   "id": "6b3a0181",
   "metadata": {},
   "outputs": [
    {
     "data": {
      "text/plain": [
       "array([1, 0, 1, ..., 0, 0, 0], dtype=int64)"
      ]
     },
     "execution_count": 103,
     "metadata": {},
     "output_type": "execute_result"
    }
   ],
   "source": [
    "grid_ran_pred = grid_ran.predict(x_test)\n",
    "\n",
    "grid_ran_pred"
   ]
  },
  {
   "cell_type": "code",
   "execution_count": 104,
   "id": "389d2a23",
   "metadata": {},
   "outputs": [],
   "source": [
    "## EVALUATING THE MODEL PERFORMANCE"
   ]
  },
  {
   "cell_type": "code",
   "execution_count": 105,
   "id": "0b568316",
   "metadata": {},
   "outputs": [
    {
     "name": "stdout",
     "output_type": "stream",
     "text": [
      "              precision    recall  f1-score   support\n",
      "\n",
      "           0       0.99      0.98      0.99      1391\n",
      "           1       0.98      0.99      0.99      1363\n",
      "\n",
      "    accuracy                           0.99      2754\n",
      "   macro avg       0.99      0.99      0.99      2754\n",
      "weighted avg       0.99      0.99      0.99      2754\n",
      "\n"
     ]
    }
   ],
   "source": [
    "print(classification_report(y_test, grid_ran_pred))"
   ]
  },
  {
   "cell_type": "code",
   "execution_count": 106,
   "id": "e372d1e8",
   "metadata": {},
   "outputs": [
    {
     "name": "stdout",
     "output_type": "stream",
     "text": [
      "[[1367   24]\n",
      " [   8 1355]]\n"
     ]
    }
   ],
   "source": [
    "print(confusion_matrix(y_test, grid_ran_pred))"
   ]
  },
  {
   "cell_type": "code",
   "execution_count": 107,
   "id": "c81917e1",
   "metadata": {},
   "outputs": [],
   "source": [
    "## FEATURE IMPORTANCES PLOT "
   ]
  },
  {
   "cell_type": "code",
   "execution_count": 108,
   "id": "32c2856c",
   "metadata": {},
   "outputs": [],
   "source": [
    "impor= best_ran.feature_importances_"
   ]
  },
  {
   "cell_type": "code",
   "execution_count": 109,
   "id": "8a047a6b",
   "metadata": {},
   "outputs": [
    {
     "data": {
      "text/html": [
       "<div>\n",
       "<style scoped>\n",
       "    .dataframe tbody tr th:only-of-type {\n",
       "        vertical-align: middle;\n",
       "    }\n",
       "\n",
       "    .dataframe tbody tr th {\n",
       "        vertical-align: top;\n",
       "    }\n",
       "\n",
       "    .dataframe thead th {\n",
       "        text-align: right;\n",
       "    }\n",
       "</style>\n",
       "<table border=\"1\" class=\"dataframe\">\n",
       "  <thead>\n",
       "    <tr style=\"text-align: right;\">\n",
       "      <th></th>\n",
       "      <th>Feature</th>\n",
       "      <th>Importance</th>\n",
       "    </tr>\n",
       "  </thead>\n",
       "  <tbody>\n",
       "    <tr>\n",
       "      <th>0</th>\n",
       "      <td>type</td>\n",
       "      <td>0.297896</td>\n",
       "    </tr>\n",
       "    <tr>\n",
       "      <th>1</th>\n",
       "      <td>amount</td>\n",
       "      <td>0.209687</td>\n",
       "    </tr>\n",
       "    <tr>\n",
       "      <th>2</th>\n",
       "      <td>oldbalanceOrg</td>\n",
       "      <td>0.255542</td>\n",
       "    </tr>\n",
       "    <tr>\n",
       "      <th>3</th>\n",
       "      <td>newbalanceOrig</td>\n",
       "      <td>0.118169</td>\n",
       "    </tr>\n",
       "    <tr>\n",
       "      <th>4</th>\n",
       "      <td>oldbalanceDest</td>\n",
       "      <td>0.041690</td>\n",
       "    </tr>\n",
       "    <tr>\n",
       "      <th>5</th>\n",
       "      <td>newbalanceDest</td>\n",
       "      <td>0.077016</td>\n",
       "    </tr>\n",
       "  </tbody>\n",
       "</table>\n",
       "</div>"
      ],
      "text/plain": [
       "          Feature  Importance\n",
       "0            type    0.297896\n",
       "1          amount    0.209687\n",
       "2   oldbalanceOrg    0.255542\n",
       "3  newbalanceOrig    0.118169\n",
       "4  oldbalanceDest    0.041690\n",
       "5  newbalanceDest    0.077016"
      ]
     },
     "execution_count": 109,
     "metadata": {},
     "output_type": "execute_result"
    }
   ],
   "source": [
    "feat_impor=pd.DataFrame({'Feature':x.columns, 'Importance':impor})\n",
    "\n",
    "feat_impor"
   ]
  },
  {
   "cell_type": "code",
   "execution_count": 110,
   "id": "adba6864",
   "metadata": {},
   "outputs": [
    {
     "data": {
      "text/html": [
       "<div>\n",
       "<style scoped>\n",
       "    .dataframe tbody tr th:only-of-type {\n",
       "        vertical-align: middle;\n",
       "    }\n",
       "\n",
       "    .dataframe tbody tr th {\n",
       "        vertical-align: top;\n",
       "    }\n",
       "\n",
       "    .dataframe thead th {\n",
       "        text-align: right;\n",
       "    }\n",
       "</style>\n",
       "<table border=\"1\" class=\"dataframe\">\n",
       "  <thead>\n",
       "    <tr style=\"text-align: right;\">\n",
       "      <th></th>\n",
       "      <th>Feature</th>\n",
       "      <th>Importance</th>\n",
       "    </tr>\n",
       "  </thead>\n",
       "  <tbody>\n",
       "    <tr>\n",
       "      <th>0</th>\n",
       "      <td>type</td>\n",
       "      <td>0.297896</td>\n",
       "    </tr>\n",
       "    <tr>\n",
       "      <th>2</th>\n",
       "      <td>oldbalanceOrg</td>\n",
       "      <td>0.255542</td>\n",
       "    </tr>\n",
       "    <tr>\n",
       "      <th>1</th>\n",
       "      <td>amount</td>\n",
       "      <td>0.209687</td>\n",
       "    </tr>\n",
       "    <tr>\n",
       "      <th>3</th>\n",
       "      <td>newbalanceOrig</td>\n",
       "      <td>0.118169</td>\n",
       "    </tr>\n",
       "    <tr>\n",
       "      <th>5</th>\n",
       "      <td>newbalanceDest</td>\n",
       "      <td>0.077016</td>\n",
       "    </tr>\n",
       "    <tr>\n",
       "      <th>4</th>\n",
       "      <td>oldbalanceDest</td>\n",
       "      <td>0.041690</td>\n",
       "    </tr>\n",
       "  </tbody>\n",
       "</table>\n",
       "</div>"
      ],
      "text/plain": [
       "          Feature  Importance\n",
       "0            type    0.297896\n",
       "2   oldbalanceOrg    0.255542\n",
       "1          amount    0.209687\n",
       "3  newbalanceOrig    0.118169\n",
       "5  newbalanceDest    0.077016\n",
       "4  oldbalanceDest    0.041690"
      ]
     },
     "execution_count": 110,
     "metadata": {},
     "output_type": "execute_result"
    }
   ],
   "source": [
    "feat_impor=feat_impor.sort_values('Importance',ascending=False)\n",
    "\n",
    "feat_impor"
   ]
  },
  {
   "cell_type": "code",
   "execution_count": 111,
   "id": "9236b08e",
   "metadata": {},
   "outputs": [],
   "source": [
    "## plotting the feature importances"
   ]
  },
  {
   "cell_type": "code",
   "execution_count": 112,
   "id": "f1ea6493",
   "metadata": {},
   "outputs": [
    {
     "data": {
      "image/png": "[encoded data removed]",
      "text/plain": [
       "<Figure size 1200x500 with 1 Axes>"
      ]
     },
     "metadata": {},
     "output_type": "display_data"
    }
   ],
   "source": [
    "plt.figure(figsize=(12,5))\n",
    "plt.bar(feat_impor['Feature'],feat_impor['Importance'],color='Purple')\n",
    "plt.title('FEATURE IMPORTANCE FOR RANDOM FOREST CLASSIFIER')\n",
    "plt.xlabel('FEATURES')\n",
    "plt.ylabel('IMPORTANCES')\n",
    "plt.show()"
   ]
  },
  {
   "cell_type": "code",
   "execution_count": 113,
   "id": "e7a7af13",
   "metadata": {},
   "outputs": [],
   "source": [
    "## FINAL INTERPRETATION FROM THE DATASET ARE :\n",
    "\n",
    "## Top 5 features \n",
    "\n",
    "## 1. Transaction type\n",
    "## 2. Old balance Originator\n",
    "## 3. Transaction amount\n",
    "## 4. New balance Originator\n",
    "## 5. New balance Destination\n",
    "\n",
    "## RANDOM FOREST CLASSIFIER IS THE BEST PERFORMING MODEL WITH RECALL of approximately 0.99, THEREBY THIS MODEL CAN \n",
    "## BE LEVERAGED BY THE BUSINESS DOMAIN INORDER TO SOLVE THEIR BUSINESS PROBLEM IN THE MOST EFFECTIVE MANNER.\n",
    "\n",
    "## As it is a fraud detection case study so we need to focus on the recall, also known as False Negative Rate or Sensitivity, \n",
    "## is an important metric in fraud detection because it focuses on minimizing false negatives. In the context of \n",
    "## fraud detection, a false negative occurs when a genuine fraudulent transaction is classified as non-fraudulent.\n",
    "## This can have significant financial and reputational consequences for both the business and its customers.\n",
    "\n",
    "## By focusing on improving Recall in fraud detection, businesses can significantly reduce the risk of missing \n",
    "## genuine fraudulent cases, leading to enhanced financial security, customer satisfaction, and regulatory compliance.\n",
    "## This approach of ensemble learning contributes to a more robust and effective fraud prevention strategy.\n"
   ]
  },
  {
   "cell_type": "code",
   "execution_count": 114,
   "id": "d2b0e932",
   "metadata": {},
   "outputs": [],
   "source": [
    "## CONCLUSION : Answers from the dataset\n",
    "\n",
    "## 1. Data Cleaning: we have handled the missing values by replacing the 0.0 with their mean, median depending on the data \n",
    "## distribution.\n",
    "## we have found the multi collinearity as well along with their visualization using a heat map and we have used technique \n",
    "## like IQR to identify and potentially remove outliers in the data.\n",
    "## 2. Fraud Detection Model: The fraud detection model is based on a supervised learning approach, most likely a \n",
    "## binary classification model. Given that fraud detection is a critical task, an ensemble method like Random Forest\n",
    "## might be chosen for its ability to handle complex relationships and provide robust predictions.\n",
    "## 3. Variable Selection:The variables for the model are selected based on their relevance and importance in \n",
    "## predicting fraud. Features that are likely to have a significant impact on fraud (such as old balance originator, \n",
    "## transaction amount, type of transaction processed, etc.) are included. \n",
    "## 4. MODEL PERFORMANCE EVALUATION - In summary, recall is considered a key metric in fraud detection because it focuses \n",
    "## on minimizing false negatives, which can have significant financial and reputational consequences for both the\n",
    "## business and its customers. Balancing high recall with acceptable precision ensures a robust fraud detection model.\n",
    "## 5. Key Predictive Factors for Fraud:\n",
    "## Key factors predicting fraudulent behavior might include:\n",
    "##  1. Transaction type\n",
    "## 2. Old balance Originator\n",
    "## 3. Transaction amount\n",
    "## 4. New balance Originator\n",
    "## 5. New balance Destination\n",
    "## 6. Interpretation of the key factors - These features collectively provide a snapshot of the financial transaction, \n",
    "## including the state of accounts before and after, the amount involved, and the nature of the transaction. Analyzing\n",
    "## these variables in conjunction with other relevant information can contribute to the detection of potentially \n",
    "## fraudulent activity. Keep in mind that these features are typically used in combination with other techniques, \n",
    "## such as machine learning algorithms, anomaly detection, and behavioral analysis, to build a comprehensive fraud \n",
    "## detection system.\n",
    "## 7. Prevention Strategies - Provide comprehensive training to employees on best practices for cybersecurity and \n",
    "## fraud prevention. Educate them on how to recognize and report suspicious activities.\n",
    "## Implement advanced fraud detection tools and algorithms, such as machine learning models and anomaly detection \n",
    "## systems, to automatically identify and flag potentially fraudulent transactions.\n",
    "## By implementing these prevention strategies during an infrastructure update, businesses can significantly \n",
    "## enhance their ability to detect and prevent fraudulent activities, ultimately safeguarding their operations,\n",
    "## reputation, and customer trust. These measures work collectively to create a more secure and resilient environment \n",
    "## against potential fraud threats.\n",
    "## 8. Determining the Effectiveness of Prevention Measures:\n",
    "## Monitoring the rate of detected fraud cases.\n",
    "## Comparing performance metrics before and after implementing prevention measures.\n",
    "## Thereby, this hypothetical scenario outlines a comprehensive approach to proactive fraud detection, from data \n",
    "## cleaning to prevention strategy assessment. It emphasizes the importance of leveraging both data-driven models \n",
    "## and robust infrastructure to mitigate fraud risk.\n",
    "\n",
    "\n",
    "\n"
   ]
  }
 ],
 "metadata": {
  "kernelspec": {
   "display_name": "Python 3 (ipykernel)",
   "language": "python",
   "name": "python3"
  },
  "language_info": {
   "codemirror_mode": {
    "name": "ipython",
    "version": 3
   },
   "file_extension": ".py",
   "mimetype": "text/x-python",
   "name": "python",
   "nbconvert_exporter": "python",
   "pygments_lexer": "ipython3",
   "version": "3.10.9"
  }
 },
 "nbformat": 4,
 "nbformat_minor": 5
}
